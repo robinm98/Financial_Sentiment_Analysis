{
 "cells": [
  {
   "cell_type": "markdown",
   "metadata": {},
   "source": [
    "# Modelling"
   ]
  },
  {
   "cell_type": "code",
   "execution_count": null,
   "metadata": {},
   "outputs": [],
   "source": [
    "import pandas as pd\n",
    "\n",
    "# Load the data\n",
    "df = pd.read_csv('Data/clean_data.csv')\n",
    "\n",
    "df"
   ]
  },
  {
   "cell_type": "markdown",
   "metadata": {},
   "source": [
    "### Split the data"
   ]
  },
  {
   "cell_type": "code",
   "execution_count": null,
   "metadata": {},
   "outputs": [],
   "source": [
    "from sklearn.model_selection import train_test_split\n",
    "\n",
    "# Split the data into training and test sets\n",
    "train_df, test_df = train_test_split(df, test_size=0.2, stratify=df['sentiment'], random_state=42)\n",
    "\n",
    "# Display the class distribution in the training set before downsampling\n",
    "print(\"Training set class distribution before downsampling:\")\n",
    "print(train_df['sentiment'].value_counts())\n",
    "\n",
    "# Display the class distribution in the test set\n",
    "print(\"Test set class distribution:\")\n",
    "print(test_df['sentiment'].value_counts())"
   ]
  },
  {
   "cell_type": "markdown",
   "metadata": {},
   "source": [
    "### Up sampling"
   ]
  },
  {
   "cell_type": "code",
   "execution_count": null,
   "metadata": {},
   "outputs": [],
   "source": [
    "# Determine the size of the largest class in the training set\n",
    "max_class_size = train_df['sentiment'].value_counts().max()\n",
    "\n",
    "# Upsample each sentiment class in the training set\n",
    "train_positive = train_df[train_df['sentiment'] == 'positive'].sample(max_class_size, replace=True, random_state=42)\n",
    "train_negative = train_df[train_df['sentiment'] == 'negative'].sample(max_class_size, replace=True, random_state=42)\n",
    "train_neutral = train_df[train_df['sentiment'] == 'neutral'].sample(max_class_size, replace=True, random_state=42)\n",
    "\n",
    "# Combine the downsampled dataframes\n",
    "train_df_downsampled = pd.concat([train_positive, train_negative, train_neutral])\n",
    "\n",
    "# Shuffle the combined dataframe to mix the classes\n",
    "train_df_downsampled = train_df_downsampled.sample(frac=1, random_state=42).reset_index(drop=True)\n",
    "\n",
    "# Display the class distribution after downsampling in the training set\n",
    "print(\"Training set class distribution after downsampling:\")\n",
    "print(train_df_downsampled['sentiment'].value_counts())\n"
   ]
  },
  {
   "cell_type": "markdown",
   "metadata": {},
   "source": [
    "### TF-IDF Vectorization"
   ]
  },
  {
   "cell_type": "code",
   "execution_count": null,
   "metadata": {},
   "outputs": [],
   "source": [
    "from sklearn.feature_extraction.text import TfidfVectorizer\n",
    "\n",
    "# Fill NaN values in 'nouns_comm' and 'raw_comm' columns with an empty string\n",
    "train_df_downsampled['nouns_comm'] = train_df_downsampled['nouns_comm'].fillna('')\n",
    "train_df_downsampled['raw_comm'] = train_df_downsampled['raw_comm'].fillna('')\n",
    "test_df['nouns_comm'] = test_df['nouns_comm'].fillna('')\n",
    "test_df['raw_comm'] = test_df['raw_comm'].fillna('')\n",
    "\n",
    "# TF-IDF Vectorization for 'nouns_comm' and 'raw_comm'\n",
    "tfidf_vectorizer_nouns = TfidfVectorizer()\n",
    "tfidf_vectorizer_raw = TfidfVectorizer()\n",
    "\n",
    "X_train_nouns = tfidf_vectorizer_nouns.fit_transform(train_df_downsampled['nouns_comm'])\n",
    "X_test_nouns = tfidf_vectorizer_nouns.transform(test_df['nouns_comm'])\n",
    "\n",
    "X_train_raw = tfidf_vectorizer_raw.fit_transform(train_df_downsampled['raw_comm'])\n",
    "X_test_raw = tfidf_vectorizer_raw.transform(test_df['raw_comm'])\n",
    "\n",
    "y_train = train_df_downsampled['sentiment']\n",
    "y_test = test_df['sentiment']\n"
   ]
  },
  {
   "cell_type": "markdown",
   "metadata": {},
   "source": [
    "## Naive Bayes Model"
   ]
  },
  {
   "cell_type": "markdown",
   "metadata": {},
   "source": [
    "### Train the model"
   ]
  },
  {
   "cell_type": "code",
   "execution_count": null,
   "metadata": {},
   "outputs": [],
   "source": [
    "from sklearn.naive_bayes import MultinomialNB\n",
    "from sklearn.metrics import classification_report, accuracy_score\n",
    "\n",
    "# Train Naive Bayes models for both 'nouns_comm' and 'raw_comm'\n",
    "nb_nouns = MultinomialNB()\n",
    "nb_raw = MultinomialNB()   \n",
    "\n",
    "# Fit the models\n",
    "nb_nouns.fit(X_train_nouns, y_train)\n",
    "nb_raw.fit(X_train_raw, y_train)\n",
    "\n",
    "# Predict on the training set\n",
    "y_train_pred_nouns = nb_nouns.predict(X_train_nouns)\n",
    "y_train_pred_raw = nb_raw.predict(X_train_raw)\n",
    "\n",
    "# Predict on the test set\n",
    "y_test_pred_nouns = nb_nouns.predict(X_test_nouns)\n",
    "y_test_pred_raw = nb_raw.predict(X_test_raw)\n"
   ]
  },
  {
   "cell_type": "markdown",
   "metadata": {},
   "source": [
    "### Compute models' accuracy"
   ]
  },
  {
   "cell_type": "code",
   "execution_count": null,
   "metadata": {},
   "outputs": [],
   "source": [
    "# Evaluate the Naive Bayes model on the test set ('nouns_comm')\n",
    "print(\"\\nTest Set - Naive Bayes Model on 'nouns_comm'\")\n",
    "print(\"Accuracy:\", accuracy_score(y_test, y_test_pred_nouns))\n",
    "print(\"Classification Report:\\n\", classification_report(y_test, y_test_pred_nouns))\n",
    "\n",
    "# Evaluate the Naive Bayes model on the test set ('raw_comm')\n",
    "print(\"\\nTest Set - Naive Bayes Model on 'raw_comm'\")\n",
    "print(\"Accuracy:\", accuracy_score(y_test, y_test_pred_raw))\n",
    "print(\"Classification Report:\\n\", classification_report(y_test, y_test_pred_raw))\n"
   ]
  },
  {
   "cell_type": "markdown",
   "metadata": {},
   "source": [
    "### Add predictions in the test_df"
   ]
  },
  {
   "cell_type": "code",
   "execution_count": null,
   "metadata": {},
   "outputs": [],
   "source": [
    "test_df['NB_pred_noun'] = y_test_pred_nouns\n",
    "test_df['NB_pred_raw'] = y_test_pred_raw\n",
    "\n",
    "test_df"
   ]
  },
  {
   "cell_type": "markdown",
   "metadata": {},
   "source": [
    "## FNN"
   ]
  },
  {
   "cell_type": "markdown",
   "metadata": {},
   "source": [
    "### FNN with nouns comm"
   ]
  },
  {
   "cell_type": "markdown",
   "metadata": {},
   "source": [
    "#### Create the FNN architecture"
   ]
  },
  {
   "cell_type": "code",
   "execution_count": null,
   "metadata": {},
   "outputs": [],
   "source": [
    "from tensorflow.keras.models import Sequential\n",
    "from tensorflow.keras.layers import Dense, Dropout\n",
    "from tensorflow.keras.optimizers import Adam\n",
    "\n",
    "def create_fnn_model(input_dim, layers=1, nodes=32, learning_rate=0.001, dropout_rate=0.5):\n",
    "    \"\"\"\n",
    "    Creates a feedforward neural network model.\n",
    "    \n",
    "    Args:\n",
    "        input_dim (int): Number of input features.\n",
    "        layers (int): Number of hidden layers.\n",
    "        nodes (int): Number of nodes per layer.\n",
    "        learning_rate (float): Learning rate for the optimizer.\n",
    "        dropout_rate (float): Dropout rate to prevent overfitting.\n",
    "\n",
    "    Returns:\n",
    "        model: Compiled Keras model.\n",
    "    \"\"\"\n",
    "    model = Sequential()\n",
    "    model.add(Dense(nodes, input_dim=input_dim, activation='relu'))\n",
    "    \n",
    "    # Add hidden layers\n",
    "    for _ in range(layers - 1):\n",
    "        model.add(Dense(nodes, activation='relu'))\n",
    "        model.add(Dropout(dropout_rate))\n",
    "    \n",
    "    # Output layer with 3 nodes for the 3 classes\n",
    "    model.add(Dense(3, activation='softmax'))\n",
    "    \n",
    "    # Compile the model\n",
    "    model.compile(optimizer=Adam(learning_rate=learning_rate),\n",
    "                  loss='sparse_categorical_crossentropy',\n",
    "                  metrics=['accuracy'])\n",
    "    \n",
    "    return model\n"
   ]
  },
  {
   "cell_type": "markdown",
   "metadata": {},
   "source": [
    "#### Create the Grid Search and fit the model"
   ]
  },
  {
   "cell_type": "code",
   "execution_count": null,
   "metadata": {},
   "outputs": [],
   "source": [
    "from scikeras.wrappers import KerasClassifier\n",
    "from sklearn.model_selection import GridSearchCV\n",
    "\n",
    "# Function to create the KerasClassifier model for grid search\n",
    "def build_keras_classifier(input_dim, layers, nodes, learning_rate):\n",
    "    return KerasClassifier(model=create_fnn_model, input_dim=input_dim, layers=layers, \n",
    "                           nodes=nodes, learning_rate=learning_rate, verbose=1)\n",
    "\n",
    "# Define hyperparameters for grid search\n",
    "param_grid = {\n",
    "    'layers': [1, 2, 3],\n",
    "    'nodes': [32, 64, 128],\n",
    "    'learning_rate': [0.001, 0.01, 0.1],\n",
    "    'epochs': [20, 30],\n",
    "    'batch_size': [32, 64]\n",
    "}\n",
    "\n",
    "# Assuming X_train_nouns and y_train are defined\n",
    "input_dim = X_train_nouns.shape[1]\n",
    "model = build_keras_classifier(input_dim=input_dim, layers=1, nodes=32, learning_rate=0.001)\n",
    "\n",
    "# Perform Grid Search\n",
    "grid = GridSearchCV(estimator=model, param_grid=param_grid, n_jobs=-1, cv=3)\n",
    "grid_result = grid.fit(X_train_nouns, y_train)\n"
   ]
  },
  {
   "cell_type": "markdown",
   "metadata": {},
   "source": [
    "#### Print the mean cross validation accuracy per combination "
   ]
  },
  {
   "cell_type": "code",
   "execution_count": null,
   "metadata": {},
   "outputs": [],
   "source": [
    "# Summarize the results from the grid search\n",
    "print(\"Best: %f using %s\" % (grid_result.best_score_, grid_result.best_params_))\n",
    "\n",
    "# Extract the mean and standard deviation of test scores, and the corresponding parameters\n",
    "means = grid_result.cv_results_['mean_test_score']\n",
    "stds = grid_result.cv_results_['std_test_score']\n",
    "params = grid_result.cv_results_['params']\n",
    "\n",
    "# Print the results in a readable format\n",
    "for mean, stdev, param in zip(means, stds, params):\n",
    "    print(\"%f (%f) with: %r\" % (mean, stdev, param))\n"
   ]
  },
  {
   "cell_type": "markdown",
   "metadata": {},
   "source": [
    "#### Retrain the best model to store the history"
   ]
  },
  {
   "cell_type": "code",
   "execution_count": null,
   "metadata": {},
   "outputs": [],
   "source": [
    "from keras.callbacks import EarlyStopping, ReduceLROnPlateau, ModelCheckpoint\n",
    "\n",
    "# Retrieve the best hyperparameters from GridSearchCV\n",
    "best_params = grid_result.best_params_\n",
    "\n",
    "# Create the final model using the best parameters\n",
    "best_model = create_fnn_model(\n",
    "    input_dim=X_train_nouns.shape[1],\n",
    "    layers=best_params['layers'],\n",
    "    nodes=best_params['nodes'],\n",
    "    learning_rate=best_params['learning_rate']\n",
    ")\n",
    "\n",
    "# Model Summary\n",
    "print(best_model.summary())\n",
    "\n",
    "# EarlyStopping to stop training when validation loss has not improved\n",
    "early_stopping = EarlyStopping(\n",
    "    monitor='val_loss', \n",
    "    min_delta=0.001, \n",
    "    patience=25, \n",
    "    verbose=1, \n",
    "    restore_best_weights=True\n",
    ")\n",
    "\n",
    "# ReduceLROnPlateau to reduce the learning rate when validation loss has stopped improving\n",
    "reduce_lr = ReduceLROnPlateau(\n",
    "    monitor='val_loss', \n",
    "    factor=0.2, \n",
    "    patience=10, \n",
    "    verbose=1, \n",
    "    min_lr=0.0005\n",
    ")\n",
    "\n",
    "# ModelCheckpoint to save the model after every epoch\n",
    "checkpoint = ModelCheckpoint(\n",
    "    'best_model.keras', \n",
    "    monitor='val_loss',\n",
    "    save_best_only=True,\n",
    "    verbose=1\n",
    ")\n",
    "\n",
    "# Fit the model\n",
    "history = best_model.fit(\n",
    "    X_train_nouns, y_train,\n",
    "    epochs=best_params['epochs'],  # Use the best number of epochs from the grid search\n",
    "    batch_size=best_params['batch_size'],  # Use the best batch size from the grid search\n",
    "    validation_split=0.2,  # Using 20% of the training data as validation data\n",
    "    callbacks=[early_stopping, reduce_lr, checkpoint],\n",
    "    verbose=1\n",
    ")\n"
   ]
  },
  {
   "cell_type": "markdown",
   "metadata": {},
   "source": [
    "#### Plot the history of the loss function and accuracy"
   ]
  },
  {
   "cell_type": "code",
   "execution_count": null,
   "metadata": {},
   "outputs": [],
   "source": [
    "import matplotlib.pyplot as plt\n",
    "\n",
    "def plot_training_history(history):\n",
    "    \"\"\"\n",
    "    Plots the training and validation loss and accuracy.\n",
    "\n",
    "    Args:\n",
    "        history: Keras History object returned by model.fit().\n",
    "    \"\"\"\n",
    "    # Plot training & validation accuracy values\n",
    "    plt.figure(figsize=(14, 6))\n",
    "    \n",
    "    plt.subplot(1, 2, 1)\n",
    "    plt.plot(history.history['accuracy'])\n",
    "    plt.plot(history.history['val_accuracy'])\n",
    "    plt.title('Model Accuracy')\n",
    "    plt.ylabel('Accuracy')\n",
    "    plt.xlabel('Epoch')\n",
    "    plt.legend(['Train', 'Validation'], loc='upper left')\n",
    "\n",
    "    # Plot training & validation loss values\n",
    "    plt.subplot(1, 2, 2)\n",
    "    plt.plot(history.history['loss'])\n",
    "    plt.plot(history.history['val_loss'])\n",
    "    plt.title('Model Loss')\n",
    "    plt.ylabel('Loss')\n",
    "    plt.xlabel('Epoch')\n",
    "    plt.legend(['Train', 'Validation'], loc='upper left')\n",
    "\n",
    "    plt.show()\n",
    "\n",
    "# Plot the training and validation loss/accuracy using the history object\n",
    "plot_training_history(history)\n"
   ]
  },
  {
   "cell_type": "markdown",
   "metadata": {},
   "source": [
    "### Predict on the test with the best model"
   ]
  },
  {
   "cell_type": "code",
   "execution_count": null,
   "metadata": {},
   "outputs": [],
   "source": [
    "# Retrieve the best model from GridSearchCV\n",
    "best_model = grid_result.best_estimator_\n",
    "\n",
    "# Make predictions on the test set\n",
    "y_test_pred = best_model.predict(X_test_nouns)\n"
   ]
  },
  {
   "cell_type": "markdown",
   "metadata": {},
   "source": [
    "#### Compute metrics of the predictions"
   ]
  },
  {
   "cell_type": "code",
   "execution_count": null,
   "metadata": {},
   "outputs": [],
   "source": [
    "from sklearn.metrics import classification_report, confusion_matrix\n",
    "\n",
    "# Evaluate the model on the test set\n",
    "test_accuracy = best_model.score(X_test_nouns, y_test)\n",
    "print(\"Test set accuracy: {:.4f}\".format(test_accuracy))\n",
    "\n",
    "# Generate a classification report\n",
    "print(classification_report(y_test, y_test_pred))\n",
    "\n",
    "# Generate a confusion matrix\n",
    "conf_matrix = confusion_matrix(y_test, y_test_pred)\n",
    "print(conf_matrix)\n"
   ]
  }
 ],
 "metadata": {
  "kernelspec": {
   "display_name": "base",
   "language": "python",
   "name": "python3"
  },
  "language_info": {
   "codemirror_mode": {
    "name": "ipython",
    "version": 3
   },
   "file_extension": ".py",
   "mimetype": "text/x-python",
   "name": "python",
   "nbconvert_exporter": "python",
   "pygments_lexer": "ipython3",
   "version": "3.12.2"
  }
 },
 "nbformat": 4,
 "nbformat_minor": 2
}
