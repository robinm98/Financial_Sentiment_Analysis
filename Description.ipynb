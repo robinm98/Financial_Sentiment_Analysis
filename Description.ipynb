{
 "cells": [
  {
   "cell_type": "markdown",
   "metadata": {},
   "source": [
    "# Sentiment Analysis Project\n",
    "\n",
    "## Goal\n",
    "\n",
    "Practice and learn sentiment analysis using Machine Learning and Deep Learning models.\n",
    "\n",
    "## Subject\n",
    "\n",
    "TBDF"
   ]
  }
 ],
 "metadata": {
  "language_info": {
   "name": "python"
  }
 },
 "nbformat": 4,
 "nbformat_minor": 2
}
