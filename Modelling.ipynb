{
 "cells": [
  {
   "cell_type": "markdown",
   "metadata": {},
   "source": [
    "# Modelling"
   ]
  },
  {
   "cell_type": "code",
   "execution_count": 2,
   "metadata": {},
   "outputs": [
    {
     "data": {
      "text/html": [
       "<div>\n",
       "<style scoped>\n",
       "    .dataframe tbody tr th:only-of-type {\n",
       "        vertical-align: middle;\n",
       "    }\n",
       "\n",
       "    .dataframe tbody tr th {\n",
       "        vertical-align: top;\n",
       "    }\n",
       "\n",
       "    .dataframe thead th {\n",
       "        text-align: right;\n",
       "    }\n",
       "</style>\n",
       "<table border=\"1\" class=\"dataframe\">\n",
       "  <thead>\n",
       "    <tr style=\"text-align: right;\">\n",
       "      <th></th>\n",
       "      <th>sentiment</th>\n",
       "      <th>raw_comm</th>\n",
       "      <th>nouns_comm</th>\n",
       "    </tr>\n",
       "  </thead>\n",
       "  <tbody>\n",
       "    <tr>\n",
       "      <th>0</th>\n",
       "      <td>neutral</td>\n",
       "      <td>Technopolis plans to develop in stages an area...</td>\n",
       "      <td>Technopolis stages area meters order companies...</td>\n",
       "    </tr>\n",
       "    <tr>\n",
       "      <th>1</th>\n",
       "      <td>negative</td>\n",
       "      <td>The international electronic industry company ...</td>\n",
       "      <td>industry company tens employees facility layof...</td>\n",
       "    </tr>\n",
       "    <tr>\n",
       "      <th>2</th>\n",
       "      <td>positive</td>\n",
       "      <td>With the new production plant the company woul...</td>\n",
       "      <td>production plant company capacity increase dem...</td>\n",
       "    </tr>\n",
       "    <tr>\n",
       "      <th>3</th>\n",
       "      <td>positive</td>\n",
       "      <td>According to the company 's updated strategy f...</td>\n",
       "      <td>company strategy years term sales growth range...</td>\n",
       "    </tr>\n",
       "    <tr>\n",
       "      <th>4</th>\n",
       "      <td>positive</td>\n",
       "      <td>FINANCING OF ASPOCOMP 'S GROWTH Aspocomp is ag...</td>\n",
       "      <td>FINANCING growth strategy circuit boards PCBs</td>\n",
       "    </tr>\n",
       "    <tr>\n",
       "      <th>...</th>\n",
       "      <td>...</td>\n",
       "      <td>...</td>\n",
       "      <td>...</td>\n",
       "    </tr>\n",
       "    <tr>\n",
       "      <th>4840</th>\n",
       "      <td>negative</td>\n",
       "      <td>LONDON MarketWatch -- Share prices ended lower...</td>\n",
       "      <td>Share prices rebound bank stocks weakness</td>\n",
       "    </tr>\n",
       "    <tr>\n",
       "      <th>4841</th>\n",
       "      <td>neutral</td>\n",
       "      <td>Rinkuskiai 's beer sales fell by 6.5 per cent ...</td>\n",
       "      <td>beer sales per cent litres beer sales cent litres</td>\n",
       "    </tr>\n",
       "    <tr>\n",
       "      <th>4842</th>\n",
       "      <td>negative</td>\n",
       "      <td>Operating profit fell to EUR 35.4 mn from EUR ...</td>\n",
       "      <td>profit mn mn vessel sales gain mn</td>\n",
       "    </tr>\n",
       "    <tr>\n",
       "      <th>4843</th>\n",
       "      <td>negative</td>\n",
       "      <td>Net sales of the Paper segment decreased to EU...</td>\n",
       "      <td>sales segment mn quarter mn quarter profit ite...</td>\n",
       "    </tr>\n",
       "    <tr>\n",
       "      <th>4844</th>\n",
       "      <td>negative</td>\n",
       "      <td>Sales in Finland decreased by 10.5 % in Januar...</td>\n",
       "      <td>Sales % sales %</td>\n",
       "    </tr>\n",
       "  </tbody>\n",
       "</table>\n",
       "<p>4845 rows × 3 columns</p>\n",
       "</div>"
      ],
      "text/plain": [
       "     sentiment                                           raw_comm  \\\n",
       "0      neutral  Technopolis plans to develop in stages an area...   \n",
       "1     negative  The international electronic industry company ...   \n",
       "2     positive  With the new production plant the company woul...   \n",
       "3     positive  According to the company 's updated strategy f...   \n",
       "4     positive  FINANCING OF ASPOCOMP 'S GROWTH Aspocomp is ag...   \n",
       "...        ...                                                ...   \n",
       "4840  negative  LONDON MarketWatch -- Share prices ended lower...   \n",
       "4841   neutral  Rinkuskiai 's beer sales fell by 6.5 per cent ...   \n",
       "4842  negative  Operating profit fell to EUR 35.4 mn from EUR ...   \n",
       "4843  negative  Net sales of the Paper segment decreased to EU...   \n",
       "4844  negative  Sales in Finland decreased by 10.5 % in Januar...   \n",
       "\n",
       "                                             nouns_comm  \n",
       "0     Technopolis stages area meters order companies...  \n",
       "1     industry company tens employees facility layof...  \n",
       "2     production plant company capacity increase dem...  \n",
       "3     company strategy years term sales growth range...  \n",
       "4         FINANCING growth strategy circuit boards PCBs  \n",
       "...                                                 ...  \n",
       "4840          Share prices rebound bank stocks weakness  \n",
       "4841  beer sales per cent litres beer sales cent litres  \n",
       "4842                  profit mn mn vessel sales gain mn  \n",
       "4843  sales segment mn quarter mn quarter profit ite...  \n",
       "4844                                    Sales % sales %  \n",
       "\n",
       "[4845 rows x 3 columns]"
      ]
     },
     "execution_count": 2,
     "metadata": {},
     "output_type": "execute_result"
    }
   ],
   "source": [
    "import pandas as pd\n",
    "\n",
    "# Load the data\n",
    "df = pd.read_csv('Data/clean_data.csv')\n",
    "\n",
    "df"
   ]
  },
  {
   "cell_type": "markdown",
   "metadata": {},
   "source": [
    "### Split the data"
   ]
  },
  {
   "cell_type": "code",
   "execution_count": 5,
   "metadata": {},
   "outputs": [
    {
     "name": "stdout",
     "output_type": "stream",
     "text": [
      "Training set class distribution before downsampling:\n",
      "neutral     2302\n",
      "positive    1091\n",
      "negative     483\n",
      "Name: sentiment, dtype: int64\n",
      "Test set class distribution:\n",
      "neutral     576\n",
      "positive    272\n",
      "negative    121\n",
      "Name: sentiment, dtype: int64\n"
     ]
    }
   ],
   "source": [
    "from sklearn.model_selection import train_test_split\n",
    "\n",
    "# Split the data into training and test sets\n",
    "train_df, test_df = train_test_split(df, test_size=0.2, stratify=df['sentiment'], random_state=42)\n",
    "\n",
    "# Display the class distribution in the training set before downsampling\n",
    "print(\"Training set class distribution before downsampling:\")\n",
    "print(train_df['sentiment'].value_counts())\n",
    "\n",
    "# Display the class distribution in the test set\n",
    "print(\"Test set class distribution:\")\n",
    "print(test_df['sentiment'].value_counts())"
   ]
  },
  {
   "cell_type": "markdown",
   "metadata": {},
   "source": [
    "### Down sampling"
   ]
  },
  {
   "cell_type": "code",
   "execution_count": 6,
   "metadata": {},
   "outputs": [
    {
     "name": "stdout",
     "output_type": "stream",
     "text": [
      "Training set class distribution after downsampling:\n",
      "negative    483\n",
      "positive    483\n",
      "neutral     483\n",
      "Name: sentiment, dtype: int64\n"
     ]
    }
   ],
   "source": [
    "# Determine the size of the smallest class in the training set\n",
    "min_class_size = train_df['sentiment'].value_counts().min()\n",
    "\n",
    "# Downsample each sentiment class in the training set\n",
    "train_positive = train_df[train_df['sentiment'] == 'positive'].sample(min_class_size, random_state=42)\n",
    "train_negative = train_df[train_df['sentiment'] == 'negative'].sample(min_class_size, random_state=42)\n",
    "train_neutral = train_df[train_df['sentiment'] == 'neutral'].sample(min_class_size, random_state=42)\n",
    "\n",
    "# Combine the downsampled dataframes\n",
    "train_df_downsampled = pd.concat([train_positive, train_negative, train_neutral])\n",
    "\n",
    "# Shuffle the combined dataframe to mix the classes\n",
    "train_df_downsampled = train_df_downsampled.sample(frac=1, random_state=42).reset_index(drop=True)\n",
    "\n",
    "# Display the class distribution after downsampling in the training set\n",
    "print(\"Training set class distribution after downsampling:\")\n",
    "print(train_df_downsampled['sentiment'].value_counts())\n"
   ]
  },
  {
   "cell_type": "markdown",
   "metadata": {},
   "source": [
    "### TF-IDF Vectorization"
   ]
  },
  {
   "cell_type": "code",
   "execution_count": 14,
   "metadata": {},
   "outputs": [],
   "source": [
    "from sklearn.feature_extraction.text import TfidfVectorizer\n",
    "\n",
    "# Fill NaN values in 'nouns_comm' and 'raw_comm' columns with an empty string\n",
    "train_df_downsampled['nouns_comm'] = train_df_downsampled['nouns_comm'].fillna('')\n",
    "train_df_downsampled['raw_comm'] = train_df_downsampled['raw_comm'].fillna('')\n",
    "test_df['nouns_comm'] = test_df['nouns_comm'].fillna('')\n",
    "test_df['raw_comm'] = test_df['raw_comm'].fillna('')\n",
    "\n",
    "# TF-IDF Vectorization for 'nouns_comm' and 'raw_comm'\n",
    "tfidf_vectorizer_nouns = TfidfVectorizer(max_features=2000)\n",
    "tfidf_vectorizer_raw = TfidfVectorizer(max_features=2000)\n",
    "\n",
    "X_train_nouns = tfidf_vectorizer_nouns.fit_transform(train_df_downsampled['nouns_comm'])\n",
    "X_test_nouns = tfidf_vectorizer_nouns.transform(test_df['nouns_comm'])\n",
    "\n",
    "X_train_raw = tfidf_vectorizer_raw.fit_transform(train_df_downsampled['raw_comm'])\n",
    "X_test_raw = tfidf_vectorizer_raw.transform(test_df['raw_comm'])\n",
    "\n",
    "y_train = train_df_downsampled['sentiment']\n",
    "y_test = test_df['sentiment']\n"
   ]
  },
  {
   "cell_type": "markdown",
   "metadata": {},
   "source": [
    "## Naive Bayes Model"
   ]
  },
  {
   "cell_type": "markdown",
   "metadata": {},
   "source": [
    "### Train the raw and nouns model"
   ]
  },
  {
   "cell_type": "code",
   "execution_count": 20,
   "metadata": {},
   "outputs": [],
   "source": [
    "from sklearn.naive_bayes import MultinomialNB\n",
    "from sklearn.metrics import classification_report, accuracy_score\n",
    "\n",
    "# Train Naive Bayes models for both 'nouns_comm' and 'raw_comm'\n",
    "nb_nouns = MultinomialNB(alpha=0.1)\n",
    "nb_raw = MultinomialNB(alpha=0.1)\n",
    "\n",
    "# Fit the models\n",
    "nb_nouns.fit(X_train_nouns, y_train)\n",
    "nb_raw.fit(X_train_raw, y_train)\n",
    "\n",
    "# Predict on the training set\n",
    "y_train_pred_nouns = nb_nouns.predict(X_train_nouns)\n",
    "y_train_pred_raw = nb_raw.predict(X_train_raw)\n",
    "\n",
    "# Predict on the test set\n",
    "y_test_pred_nouns = nb_nouns.predict(X_test_nouns)\n",
    "y_test_pred_raw = nb_raw.predict(X_test_raw)\n"
   ]
  },
  {
   "cell_type": "markdown",
   "metadata": {},
   "source": [
    "### Compute models' accuracy"
   ]
  },
  {
   "cell_type": "code",
   "execution_count": 21,
   "metadata": {},
   "outputs": [
    {
     "name": "stdout",
     "output_type": "stream",
     "text": [
      "Training Set - Naive Bayes Model on 'nouns_comm'\n",
      "Accuracy: 0.855072463768116\n",
      "Classification Report:\n",
      "               precision    recall  f1-score   support\n",
      "\n",
      "    negative       0.77      0.92      0.84       483\n",
      "     neutral       0.92      0.88      0.90       483\n",
      "    positive       0.90      0.76      0.83       483\n",
      "\n",
      "    accuracy                           0.86      1449\n",
      "   macro avg       0.86      0.86      0.86      1449\n",
      "weighted avg       0.86      0.86      0.86      1449\n",
      "\n",
      "\n",
      "Test Set - Naive Bayes Model on 'nouns_comm'\n",
      "Accuracy: 0.5593395252837977\n",
      "Classification Report:\n",
      "               precision    recall  f1-score   support\n",
      "\n",
      "    negative       0.31      0.73      0.44       121\n",
      "     neutral       0.80      0.57      0.67       576\n",
      "    positive       0.45      0.45      0.45       272\n",
      "\n",
      "    accuracy                           0.56       969\n",
      "   macro avg       0.52      0.58      0.52       969\n",
      "weighted avg       0.64      0.56      0.58       969\n",
      "\n",
      "\n",
      "Training Set - Naive Bayes Model on 'raw_comm'\n",
      "Accuracy: 0.9109730848861284\n",
      "Classification Report:\n",
      "               precision    recall  f1-score   support\n",
      "\n",
      "    negative       0.86      0.96      0.91       483\n",
      "     neutral       0.92      0.93      0.93       483\n",
      "    positive       0.96      0.84      0.90       483\n",
      "\n",
      "    accuracy                           0.91      1449\n",
      "   macro avg       0.92      0.91      0.91      1449\n",
      "weighted avg       0.92      0.91      0.91      1449\n",
      "\n",
      "\n",
      "Test Set - Naive Bayes Model on 'raw_comm'\n",
      "Accuracy: 0.6522187822497421\n",
      "Classification Report:\n",
      "               precision    recall  f1-score   support\n",
      "\n",
      "    negative       0.42      0.75      0.54       121\n",
      "     neutral       0.81      0.70      0.75       576\n",
      "    positive       0.55      0.50      0.52       272\n",
      "\n",
      "    accuracy                           0.65       969\n",
      "   macro avg       0.59      0.65      0.60       969\n",
      "weighted avg       0.69      0.65      0.66       969\n",
      "\n"
     ]
    }
   ],
   "source": [
    "# Evaluate the Naive Bayes model on the training set ('nouns_comm')\n",
    "print(\"Training Set - Naive Bayes Model on 'nouns_comm'\")\n",
    "print(\"Accuracy:\", accuracy_score(y_train, y_train_pred_nouns))\n",
    "print(\"Classification Report:\\n\", classification_report(y_train, y_train_pred_nouns))\n",
    "\n",
    "# Evaluate the Naive Bayes model on the test set ('nouns_comm')\n",
    "print(\"\\nTest Set - Naive Bayes Model on 'nouns_comm'\")\n",
    "print(\"Accuracy:\", accuracy_score(y_test, y_test_pred_nouns))\n",
    "print(\"Classification Report:\\n\", classification_report(y_test, y_test_pred_nouns))\n",
    "\n",
    "# Evaluate the Naive Bayes model on the training set ('raw_comm')\n",
    "print(\"\\nTraining Set - Naive Bayes Model on 'raw_comm'\")\n",
    "print(\"Accuracy:\", accuracy_score(y_train, y_train_pred_raw))\n",
    "print(\"Classification Report:\\n\", classification_report(y_train, y_train_pred_raw))\n",
    "\n",
    "# Evaluate the Naive Bayes model on the test set ('raw_comm')\n",
    "print(\"\\nTest Set - Naive Bayes Model on 'raw_comm'\")\n",
    "print(\"Accuracy:\", accuracy_score(y_test, y_test_pred_raw))\n",
    "print(\"Classification Report:\\n\", classification_report(y_test, y_test_pred_raw))\n"
   ]
  }
 ],
 "metadata": {
  "kernelspec": {
   "display_name": "base",
   "language": "python",
   "name": "python3"
  },
  "language_info": {
   "codemirror_mode": {
    "name": "ipython",
    "version": 3
   },
   "file_extension": ".py",
   "mimetype": "text/x-python",
   "name": "python",
   "nbconvert_exporter": "python",
   "pygments_lexer": "ipython3",
   "version": "3.9.13"
  }
 },
 "nbformat": 4,
 "nbformat_minor": 2
}
