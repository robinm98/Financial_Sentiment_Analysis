{
 "cells": [
  {
   "cell_type": "markdown",
   "metadata": {},
   "source": [
    "# Modelling"
   ]
  },
  {
   "cell_type": "code",
   "execution_count": 2,
   "metadata": {},
   "outputs": [
    {
     "data": {
      "text/html": [
       "<div>\n",
       "<style scoped>\n",
       "    .dataframe tbody tr th:only-of-type {\n",
       "        vertical-align: middle;\n",
       "    }\n",
       "\n",
       "    .dataframe tbody tr th {\n",
       "        vertical-align: top;\n",
       "    }\n",
       "\n",
       "    .dataframe thead th {\n",
       "        text-align: right;\n",
       "    }\n",
       "</style>\n",
       "<table border=\"1\" class=\"dataframe\">\n",
       "  <thead>\n",
       "    <tr style=\"text-align: right;\">\n",
       "      <th></th>\n",
       "      <th>sentiment</th>\n",
       "      <th>raw_comm</th>\n",
       "      <th>nouns_comm</th>\n",
       "    </tr>\n",
       "  </thead>\n",
       "  <tbody>\n",
       "    <tr>\n",
       "      <th>0</th>\n",
       "      <td>neutral</td>\n",
       "      <td>Technopolis plans to develop in stages an area...</td>\n",
       "      <td>Technopolis stages area meters order companies...</td>\n",
       "    </tr>\n",
       "    <tr>\n",
       "      <th>1</th>\n",
       "      <td>negative</td>\n",
       "      <td>The international electronic industry company ...</td>\n",
       "      <td>industry company tens employees facility layof...</td>\n",
       "    </tr>\n",
       "    <tr>\n",
       "      <th>2</th>\n",
       "      <td>positive</td>\n",
       "      <td>With the new production plant the company woul...</td>\n",
       "      <td>production plant company capacity increase dem...</td>\n",
       "    </tr>\n",
       "    <tr>\n",
       "      <th>3</th>\n",
       "      <td>positive</td>\n",
       "      <td>According to the company 's updated strategy f...</td>\n",
       "      <td>company strategy years term sales growth range...</td>\n",
       "    </tr>\n",
       "    <tr>\n",
       "      <th>4</th>\n",
       "      <td>positive</td>\n",
       "      <td>FINANCING OF ASPOCOMP 'S GROWTH Aspocomp is ag...</td>\n",
       "      <td>FINANCING growth strategy circuit boards PCBs</td>\n",
       "    </tr>\n",
       "    <tr>\n",
       "      <th>...</th>\n",
       "      <td>...</td>\n",
       "      <td>...</td>\n",
       "      <td>...</td>\n",
       "    </tr>\n",
       "    <tr>\n",
       "      <th>4840</th>\n",
       "      <td>negative</td>\n",
       "      <td>LONDON MarketWatch -- Share prices ended lower...</td>\n",
       "      <td>Share prices rebound bank stocks weakness</td>\n",
       "    </tr>\n",
       "    <tr>\n",
       "      <th>4841</th>\n",
       "      <td>neutral</td>\n",
       "      <td>Rinkuskiai 's beer sales fell by 6.5 per cent ...</td>\n",
       "      <td>beer sales per cent litres beer sales cent litres</td>\n",
       "    </tr>\n",
       "    <tr>\n",
       "      <th>4842</th>\n",
       "      <td>negative</td>\n",
       "      <td>Operating profit fell to EUR 35.4 mn from EUR ...</td>\n",
       "      <td>profit mn mn vessel sales gain mn</td>\n",
       "    </tr>\n",
       "    <tr>\n",
       "      <th>4843</th>\n",
       "      <td>negative</td>\n",
       "      <td>Net sales of the Paper segment decreased to EU...</td>\n",
       "      <td>sales segment mn quarter mn quarter profit ite...</td>\n",
       "    </tr>\n",
       "    <tr>\n",
       "      <th>4844</th>\n",
       "      <td>negative</td>\n",
       "      <td>Sales in Finland decreased by 10.5 % in Januar...</td>\n",
       "      <td>Sales % sales %</td>\n",
       "    </tr>\n",
       "  </tbody>\n",
       "</table>\n",
       "<p>4845 rows × 3 columns</p>\n",
       "</div>"
      ],
      "text/plain": [
       "     sentiment                                           raw_comm  \\\n",
       "0      neutral  Technopolis plans to develop in stages an area...   \n",
       "1     negative  The international electronic industry company ...   \n",
       "2     positive  With the new production plant the company woul...   \n",
       "3     positive  According to the company 's updated strategy f...   \n",
       "4     positive  FINANCING OF ASPOCOMP 'S GROWTH Aspocomp is ag...   \n",
       "...        ...                                                ...   \n",
       "4840  negative  LONDON MarketWatch -- Share prices ended lower...   \n",
       "4841   neutral  Rinkuskiai 's beer sales fell by 6.5 per cent ...   \n",
       "4842  negative  Operating profit fell to EUR 35.4 mn from EUR ...   \n",
       "4843  negative  Net sales of the Paper segment decreased to EU...   \n",
       "4844  negative  Sales in Finland decreased by 10.5 % in Januar...   \n",
       "\n",
       "                                             nouns_comm  \n",
       "0     Technopolis stages area meters order companies...  \n",
       "1     industry company tens employees facility layof...  \n",
       "2     production plant company capacity increase dem...  \n",
       "3     company strategy years term sales growth range...  \n",
       "4         FINANCING growth strategy circuit boards PCBs  \n",
       "...                                                 ...  \n",
       "4840          Share prices rebound bank stocks weakness  \n",
       "4841  beer sales per cent litres beer sales cent litres  \n",
       "4842                  profit mn mn vessel sales gain mn  \n",
       "4843  sales segment mn quarter mn quarter profit ite...  \n",
       "4844                                    Sales % sales %  \n",
       "\n",
       "[4845 rows x 3 columns]"
      ]
     },
     "execution_count": 2,
     "metadata": {},
     "output_type": "execute_result"
    }
   ],
   "source": [
    "import pandas as pd\n",
    "\n",
    "# Load the data\n",
    "df = pd.read_csv('Data/clean_data.csv')\n",
    "\n",
    "df"
   ]
  },
  {
   "cell_type": "markdown",
   "metadata": {},
   "source": [
    "### Split the data"
   ]
  },
  {
   "cell_type": "code",
   "execution_count": 3,
   "metadata": {},
   "outputs": [
    {
     "name": "stdout",
     "output_type": "stream",
     "text": [
      "Training set class distribution before downsampling:\n",
      "neutral     2302\n",
      "positive    1091\n",
      "negative     483\n",
      "Name: sentiment, dtype: int64\n",
      "Test set class distribution:\n",
      "neutral     576\n",
      "positive    272\n",
      "negative    121\n",
      "Name: sentiment, dtype: int64\n"
     ]
    }
   ],
   "source": [
    "from sklearn.model_selection import train_test_split\n",
    "\n",
    "# Split the data into training and test sets\n",
    "train_df, test_df = train_test_split(df, test_size=0.2, stratify=df['sentiment'], random_state=42)\n",
    "\n",
    "# Display the class distribution in the training set before downsampling\n",
    "print(\"Training set class distribution before downsampling:\")\n",
    "print(train_df['sentiment'].value_counts())\n",
    "\n",
    "# Display the class distribution in the test set\n",
    "print(\"Test set class distribution:\")\n",
    "print(test_df['sentiment'].value_counts())"
   ]
  },
  {
   "cell_type": "markdown",
   "metadata": {},
   "source": [
    "### Up sampling"
   ]
  },
  {
   "cell_type": "code",
   "execution_count": 5,
   "metadata": {},
   "outputs": [
    {
     "name": "stdout",
     "output_type": "stream",
     "text": [
      "Training set class distribution after downsampling:\n",
      "negative    2302\n",
      "positive    2302\n",
      "neutral     2302\n",
      "Name: sentiment, dtype: int64\n"
     ]
    }
   ],
   "source": [
    "# Determine the size of the largest class in the training set\n",
    "max_class_size = train_df['sentiment'].value_counts().max()\n",
    "\n",
    "# Upsample each sentiment class in the training set\n",
    "train_positive = train_df[train_df['sentiment'] == 'positive'].sample(max_class_size, replace=True, random_state=42)\n",
    "train_negative = train_df[train_df['sentiment'] == 'negative'].sample(max_class_size, replace=True, random_state=42)\n",
    "train_neutral = train_df[train_df['sentiment'] == 'neutral'].sample(max_class_size, replace=True, random_state=42)\n",
    "\n",
    "# Combine the upsampled dataframes\n",
    "train_df_upsampled = pd.concat([train_positive, train_negative, train_neutral])\n",
    "\n",
    "# Shuffle the combined dataframe to mix the classes\n",
    "train_df_upsampled = train_df_upsampled.sample(frac=1, random_state=42).reset_index(drop=True)\n",
    "\n",
    "# Display the class distribution after downsampling in the training set\n",
    "print(\"Training set class distribution after downsampling:\")\n",
    "print(train_df_upsampled['sentiment'].value_counts())\n"
   ]
  },
  {
   "cell_type": "markdown",
   "metadata": {},
   "source": [
    "### TF-IDF Vectorization"
   ]
  },
  {
   "cell_type": "code",
   "execution_count": 10,
   "metadata": {},
   "outputs": [],
   "source": [
    "from sklearn.feature_extraction.text import TfidfVectorizer\n",
    "\n",
    "# Fill NaN values in 'nouns_comm' and 'raw_comm' columns with an empty string\n",
    "train_df_downsampled['nouns_comm'] = train_df_downsampled['nouns_comm'].fillna('')\n",
    "train_df_downsampled['raw_comm'] = train_df_downsampled['raw_comm'].fillna('')\n",
    "test_df['nouns_comm'] = test_df['nouns_comm'].fillna('')\n",
    "test_df['raw_comm'] = test_df['raw_comm'].fillna('')\n",
    "\n",
    "# TF-IDF Vectorization for 'nouns_comm' and 'raw_comm'\n",
    "tfidf_vectorizer_nouns = TfidfVectorizer()\n",
    "tfidf_vectorizer_raw = TfidfVectorizer()\n",
    "\n",
    "X_train_nouns = tfidf_vectorizer_nouns.fit_transform(train_df_downsampled['nouns_comm'])\n",
    "X_test_nouns = tfidf_vectorizer_nouns.transform(test_df['nouns_comm'])\n",
    "\n",
    "X_train_raw = tfidf_vectorizer_raw.fit_transform(train_df_downsampled['raw_comm'])\n",
    "X_test_raw = tfidf_vectorizer_raw.transform(test_df['raw_comm'])\n",
    "\n",
    "y_train = train_df_downsampled['sentiment']\n",
    "y_test = test_df['sentiment']\n"
   ]
  },
  {
   "cell_type": "markdown",
   "metadata": {},
   "source": [
    "## Naive Bayes Model"
   ]
  },
  {
   "cell_type": "markdown",
   "metadata": {},
   "source": [
    "### Train the model"
   ]
  },
  {
   "cell_type": "code",
   "execution_count": 11,
   "metadata": {},
   "outputs": [],
   "source": [
    "from sklearn.naive_bayes import MultinomialNB\n",
    "from sklearn.metrics import classification_report, accuracy_score\n",
    "\n",
    "# Train Naive Bayes models for both 'nouns_comm' and 'raw_comm'\n",
    "nb_nouns = MultinomialNB()\n",
    "nb_raw = MultinomialNB()   \n",
    "\n",
    "# Fit the models\n",
    "nb_nouns.fit(X_train_nouns, y_train)\n",
    "nb_raw.fit(X_train_raw, y_train)\n",
    "\n",
    "# Predict on the training set\n",
    "y_train_pred_nouns = nb_nouns.predict(X_train_nouns)\n",
    "y_train_pred_raw = nb_raw.predict(X_train_raw)\n",
    "\n",
    "# Predict on the test set\n",
    "y_test_pred_nouns = nb_nouns.predict(X_test_nouns)\n",
    "y_test_pred_raw = nb_raw.predict(X_test_raw)\n"
   ]
  },
  {
   "cell_type": "markdown",
   "metadata": {},
   "source": [
    "### Compute models' accuracy"
   ]
  },
  {
   "cell_type": "code",
   "execution_count": 12,
   "metadata": {},
   "outputs": [
    {
     "name": "stdout",
     "output_type": "stream",
     "text": [
      "\n",
      "Test Set - Naive Bayes Model on 'nouns_comm'\n",
      "Accuracy: 0.5830753353973168\n",
      "Classification Report:\n",
      "               precision    recall  f1-score   support\n",
      "\n",
      "    negative       0.33      0.65      0.44       121\n",
      "     neutral       0.79      0.64      0.71       576\n",
      "    positive       0.45      0.43      0.44       272\n",
      "\n",
      "    accuracy                           0.58       969\n",
      "   macro avg       0.52      0.57      0.53       969\n",
      "weighted avg       0.64      0.58      0.60       969\n",
      "\n",
      "\n",
      "Test Set - Naive Bayes Model on 'raw_comm'\n",
      "Accuracy: 0.6800825593395253\n",
      "Classification Report:\n",
      "               precision    recall  f1-score   support\n",
      "\n",
      "    negative       0.44      0.80      0.57       121\n",
      "     neutral       0.83      0.73      0.78       576\n",
      "    positive       0.57      0.51      0.54       272\n",
      "\n",
      "    accuracy                           0.68       969\n",
      "   macro avg       0.62      0.68      0.63       969\n",
      "weighted avg       0.71      0.68      0.69       969\n",
      "\n"
     ]
    }
   ],
   "source": [
    "# Evaluate the Naive Bayes model on the test set ('nouns_comm')\n",
    "print(\"\\nTest Set - Naive Bayes Model on 'nouns_comm'\")\n",
    "print(\"Accuracy:\", accuracy_score(y_test, y_test_pred_nouns))\n",
    "print(\"Classification Report:\\n\", classification_report(y_test, y_test_pred_nouns))\n",
    "\n",
    "# Evaluate the Naive Bayes model on the test set ('raw_comm')\n",
    "print(\"\\nTest Set - Naive Bayes Model on 'raw_comm'\")\n",
    "print(\"Accuracy:\", accuracy_score(y_test, y_test_pred_raw))\n",
    "print(\"Classification Report:\\n\", classification_report(y_test, y_test_pred_raw))\n"
   ]
  },
  {
   "cell_type": "markdown",
   "metadata": {},
   "source": [
    "### Add predictions in the test_df"
   ]
  },
  {
   "cell_type": "code",
   "execution_count": 13,
   "metadata": {},
   "outputs": [
    {
     "data": {
      "text/html": [
       "<div>\n",
       "<style scoped>\n",
       "    .dataframe tbody tr th:only-of-type {\n",
       "        vertical-align: middle;\n",
       "    }\n",
       "\n",
       "    .dataframe tbody tr th {\n",
       "        vertical-align: top;\n",
       "    }\n",
       "\n",
       "    .dataframe thead th {\n",
       "        text-align: right;\n",
       "    }\n",
       "</style>\n",
       "<table border=\"1\" class=\"dataframe\">\n",
       "  <thead>\n",
       "    <tr style=\"text-align: right;\">\n",
       "      <th></th>\n",
       "      <th>sentiment</th>\n",
       "      <th>raw_comm</th>\n",
       "      <th>nouns_comm</th>\n",
       "      <th>NB_pred_noun</th>\n",
       "      <th>NB_pred_raw</th>\n",
       "    </tr>\n",
       "  </thead>\n",
       "  <tbody>\n",
       "    <tr>\n",
       "      <th>2783</th>\n",
       "      <td>neutral</td>\n",
       "      <td>ALEXANDRIA , Va. , Dec. 17 -- Reijo Salovaara ...</td>\n",
       "      <td>veneer cutter</td>\n",
       "      <td>neutral</td>\n",
       "      <td>neutral</td>\n",
       "    </tr>\n",
       "    <tr>\n",
       "      <th>1566</th>\n",
       "      <td>positive</td>\n",
       "      <td>Nokia will continue to invest in future develo...</td>\n",
       "      <td>development benefit users</td>\n",
       "      <td>neutral</td>\n",
       "      <td>neutral</td>\n",
       "    </tr>\n",
       "    <tr>\n",
       "      <th>478</th>\n",
       "      <td>neutral</td>\n",
       "      <td>Baltic Pearl CJSC , a subsidiary of Shanghai F...</td>\n",
       "      <td>subsidiary project meters space hospitals scho...</td>\n",
       "      <td>neutral</td>\n",
       "      <td>neutral</td>\n",
       "    </tr>\n",
       "    <tr>\n",
       "      <th>911</th>\n",
       "      <td>positive</td>\n",
       "      <td>This combined with foreign investments creates...</td>\n",
       "      <td>investments opportunities</td>\n",
       "      <td>neutral</td>\n",
       "      <td>neutral</td>\n",
       "    </tr>\n",
       "    <tr>\n",
       "      <th>1294</th>\n",
       "      <td>neutral</td>\n",
       "      <td>Of course , you 'll have direct access to Noki...</td>\n",
       "      <td>access store lots fun media</td>\n",
       "      <td>neutral</td>\n",
       "      <td>neutral</td>\n",
       "    </tr>\n",
       "    <tr>\n",
       "      <th>...</th>\n",
       "      <td>...</td>\n",
       "      <td>...</td>\n",
       "      <td>...</td>\n",
       "      <td>...</td>\n",
       "      <td>...</td>\n",
       "    </tr>\n",
       "    <tr>\n",
       "      <th>4535</th>\n",
       "      <td>positive</td>\n",
       "      <td>Key shareholders of Finnish IT services provid...</td>\n",
       "      <td>shareholders services provider offer shop life...</td>\n",
       "      <td>neutral</td>\n",
       "      <td>neutral</td>\n",
       "    </tr>\n",
       "    <tr>\n",
       "      <th>141</th>\n",
       "      <td>positive</td>\n",
       "      <td>Finnish Bank of +_land reports its operating p...</td>\n",
       "      <td>land operating profit mn quarter mn period</td>\n",
       "      <td>negative</td>\n",
       "      <td>negative</td>\n",
       "    </tr>\n",
       "    <tr>\n",
       "      <th>945</th>\n",
       "      <td>positive</td>\n",
       "      <td>EBITDA for the year 2009 improved to EUR484m ,...</td>\n",
       "      <td>EBITDA year</td>\n",
       "      <td>positive</td>\n",
       "      <td>positive</td>\n",
       "    </tr>\n",
       "    <tr>\n",
       "      <th>1523</th>\n",
       "      <td>positive</td>\n",
       "      <td>Finnish retailer Stockmann has won approval fr...</td>\n",
       "      <td>retailer approval board tender offer aim compa...</td>\n",
       "      <td>neutral</td>\n",
       "      <td>positive</td>\n",
       "    </tr>\n",
       "    <tr>\n",
       "      <th>3265</th>\n",
       "      <td>neutral</td>\n",
       "      <td>The handset maker did not disclose any financi...</td>\n",
       "      <td>handset maker details</td>\n",
       "      <td>neutral</td>\n",
       "      <td>neutral</td>\n",
       "    </tr>\n",
       "  </tbody>\n",
       "</table>\n",
       "<p>969 rows × 5 columns</p>\n",
       "</div>"
      ],
      "text/plain": [
       "     sentiment                                           raw_comm  \\\n",
       "2783   neutral  ALEXANDRIA , Va. , Dec. 17 -- Reijo Salovaara ...   \n",
       "1566  positive  Nokia will continue to invest in future develo...   \n",
       "478    neutral  Baltic Pearl CJSC , a subsidiary of Shanghai F...   \n",
       "911   positive  This combined with foreign investments creates...   \n",
       "1294   neutral  Of course , you 'll have direct access to Noki...   \n",
       "...        ...                                                ...   \n",
       "4535  positive  Key shareholders of Finnish IT services provid...   \n",
       "141   positive  Finnish Bank of +_land reports its operating p...   \n",
       "945   positive  EBITDA for the year 2009 improved to EUR484m ,...   \n",
       "1523  positive  Finnish retailer Stockmann has won approval fr...   \n",
       "3265   neutral  The handset maker did not disclose any financi...   \n",
       "\n",
       "                                             nouns_comm NB_pred_noun  \\\n",
       "2783                                      veneer cutter      neutral   \n",
       "1566                          development benefit users      neutral   \n",
       "478   subsidiary project meters space hospitals scho...      neutral   \n",
       "911                           investments opportunities      neutral   \n",
       "1294                        access store lots fun media      neutral   \n",
       "...                                                 ...          ...   \n",
       "4535  shareholders services provider offer shop life...      neutral   \n",
       "141          land operating profit mn quarter mn period     negative   \n",
       "945                                         EBITDA year     positive   \n",
       "1523  retailer approval board tender offer aim compa...      neutral   \n",
       "3265                              handset maker details      neutral   \n",
       "\n",
       "     NB_pred_raw  \n",
       "2783     neutral  \n",
       "1566     neutral  \n",
       "478      neutral  \n",
       "911      neutral  \n",
       "1294     neutral  \n",
       "...          ...  \n",
       "4535     neutral  \n",
       "141     negative  \n",
       "945     positive  \n",
       "1523    positive  \n",
       "3265     neutral  \n",
       "\n",
       "[969 rows x 5 columns]"
      ]
     },
     "execution_count": 13,
     "metadata": {},
     "output_type": "execute_result"
    }
   ],
   "source": [
    "test_df['NB_pred_noun'] = y_test_pred_nouns\n",
    "test_df['NB_pred_raw'] = y_test_pred_raw\n",
    "\n",
    "test_df"
   ]
  },
  {
   "cell_type": "markdown",
   "metadata": {},
   "source": [
    "## FNN"
   ]
  },
  {
   "cell_type": "markdown",
   "metadata": {},
   "source": [
    "### FNN with nouns comm"
   ]
  },
  {
   "cell_type": "markdown",
   "metadata": {},
   "source": [
    "#### Create the FNN architecture"
   ]
  },
  {
   "cell_type": "code",
   "execution_count": 36,
   "metadata": {},
   "outputs": [],
   "source": [
    "from tensorflow.keras.models import Sequential\n",
    "from tensorflow.keras.layers import Dense, Dropout\n",
    "from tensorflow.keras.optimizers import Adam\n",
    "from tensorflow.keras.regularizers import l2\n",
    "from tensorflow.keras.callbacks import EarlyStopping, ReduceLROnPlateau\n",
    "\n",
    "def create_fnn_model(input_dim, layers=1, nodes=32, learning_rate=0.001, dropout_rate=0.5, l2_reg=0.01):\n",
    "    \"\"\"\n",
    "    Creates a feedforward neural network model with L2 regularization and dropout.\n",
    "    \n",
    "    Args:\n",
    "        input_dim (int): Number of input features.\n",
    "        layers (int): Number of hidden layers.\n",
    "        nodes (int): Number of nodes per layer.\n",
    "        learning_rate (float): Learning rate for the optimizer.\n",
    "        dropout_rate (float): Dropout rate to prevent overfitting.\n",
    "        l2_reg (float): L2 regularization strength.\n",
    "\n",
    "    Returns:\n",
    "        model: Compiled Keras model.\n",
    "    \"\"\"\n",
    "    model = Sequential()\n",
    "    model.add(Dense(nodes, input_dim=input_dim, activation='relu', kernel_regularizer=l2(l2_reg)))\n",
    "    \n",
    "    # Add hidden layers with dropout and L2 regularization\n",
    "    for _ in range(layers - 1):\n",
    "        model.add(Dense(nodes, activation='relu', kernel_regularizer=l2(l2_reg)))\n",
    "        model.add(Dropout(dropout_rate))\n",
    "    \n",
    "    # Output layer with 3 nodes for the 3 classes\n",
    "    model.add(Dense(3, activation='softmax'))\n",
    "    \n",
    "    # Compile the model\n",
    "    model.compile(optimizer=Adam(learning_rate=learning_rate),\n",
    "                  loss='sparse_categorical_crossentropy',\n",
    "                  metrics=['accuracy'])\n",
    "    \n",
    "    return model"
   ]
  },
  {
   "cell_type": "markdown",
   "metadata": {},
   "source": [
    "#### Create the Grid Search and fit the model"
   ]
  },
  {
   "cell_type": "code",
   "execution_count": 37,
   "metadata": {},
   "outputs": [
    {
     "name": "stderr",
     "output_type": "stream",
     "text": [
      "2024-08-27 17:46:10.109508: I tensorflow/core/platform/cpu_feature_guard.cc:210] This TensorFlow binary is optimized to use available CPU instructions in performance-critical operations.\n",
      "To enable the following instructions: AVX2 FMA, in other operations, rebuild TensorFlow with the appropriate compiler flags.\n",
      "2024-08-27 17:46:10.113955: I tensorflow/core/platform/cpu_feature_guard.cc:210] This TensorFlow binary is optimized to use available CPU instructions in performance-critical operations.\n",
      "To enable the following instructions: AVX2 FMA, in other operations, rebuild TensorFlow with the appropriate compiler flags.\n",
      "2024-08-27 17:46:10.139327: I tensorflow/core/platform/cpu_feature_guard.cc:210] This TensorFlow binary is optimized to use available CPU instructions in performance-critical operations.\n",
      "To enable the following instructions: AVX2 FMA, in other operations, rebuild TensorFlow with the appropriate compiler flags.\n",
      "2024-08-27 17:46:10.141731: I tensorflow/core/platform/cpu_feature_guard.cc:210] This TensorFlow binary is optimized to use available CPU instructions in performance-critical operations.\n",
      "To enable the following instructions: AVX2 FMA, in other operations, rebuild TensorFlow with the appropriate compiler flags.\n",
      "/Users/robin/opt/anaconda3/lib/python3.9/site-packages/keras/src/layers/core/dense.py:87: UserWarning: Do not pass an `input_shape`/`input_dim` argument to a layer. When using Sequential models, prefer using an `Input(shape)` object as the first layer in the model instead.\n",
      "  super().__init__(activity_regularizer=activity_regularizer, **kwargs)\n",
      "/Users/robin/opt/anaconda3/lib/python3.9/site-packages/keras/src/layers/core/dense.py:87: UserWarning: Do not pass an `input_shape`/`input_dim` argument to a layer. When using Sequential models, prefer using an `Input(shape)` object as the first layer in the model instead.\n",
      "  super().__init__(activity_regularizer=activity_regularizer, **kwargs)\n",
      "/Users/robin/opt/anaconda3/lib/python3.9/site-packages/keras/src/layers/core/dense.py:87: UserWarning: Do not pass an `input_shape`/`input_dim` argument to a layer. When using Sequential models, prefer using an `Input(shape)` object as the first layer in the model instead.\n",
      "  super().__init__(activity_regularizer=activity_regularizer, **kwargs)\n",
      "/Users/robin/opt/anaconda3/lib/python3.9/site-packages/keras/src/layers/core/dense.py:87: UserWarning: Do not pass an `input_shape`/`input_dim` argument to a layer. When using Sequential models, prefer using an `Input(shape)` object as the first layer in the model instead.\n",
      "  super().__init__(activity_regularizer=activity_regularizer, **kwargs)\n"
     ]
    },
    {
     "name": "stdout",
     "output_type": "stream",
     "text": [
      "Epoch 1/20\n",
      "Epoch 1/20\n",
      "Epoch 1/20\n",
      "Epoch 1/20\n",
      "\u001b[1m144/144\u001b[0m \u001b[32m━━━━━━━━━━━━━━━━━━━━\u001b[0m\u001b[37m\u001b[0m \u001b[1m3s\u001b[0m 5ms/step - accuracy: 0.4764 - loss: 1.2709\n",
      "Epoch 2/20\n",
      "\u001b[1m144/144\u001b[0m \u001b[32m━━━━━━━━━━━━━━━━━━━━\u001b[0m\u001b[37m\u001b[0m \u001b[1m3s\u001b[0m 5ms/step - accuracy: 0.5032 - loss: 1.2704\n",
      "Epoch 2/20\n",
      "\u001b[1m144/144\u001b[0m \u001b[32m━━━━━━━━━━━━━━━━━━━━\u001b[0m\u001b[37m\u001b[0m \u001b[1m3s\u001b[0m 5ms/step - accuracy: 0.4875 - loss: 1.4454\n",
      "\u001b[1m144/144\u001b[0m \u001b[32m━━━━━━━━━━━━━━━━━━━━\u001b[0m\u001b[37m\u001b[0m \u001b[1m3s\u001b[0m 5ms/step - accuracy: 0.4821 - loss: 1.2730\n",
      "Epoch 2/20\n",
      "Epoch 2/20\n",
      "\u001b[1m144/144\u001b[0m \u001b[32m━━━━━━━━━━━━━━━━━━━━\u001b[0m\u001b[37m\u001b[0m \u001b[1m1s\u001b[0m 8ms/step - accuracy: 0.6630 - loss: 1.0162\n",
      "\u001b[1m144/144\u001b[0m \u001b[32m━━━━━━━━━━━━━━━━━━━━\u001b[0m\u001b[37m\u001b[0m \u001b[1m1s\u001b[0m 8ms/step - accuracy: 0.6392 - loss: 1.0111\n",
      "Epoch 3/20\n",
      "Epoch 3/20\n",
      "\u001b[1m144/144\u001b[0m \u001b[32m━━━━━━━━━━━━━━━━━━━━\u001b[0m\u001b[37m\u001b[0m \u001b[1m1s\u001b[0m 6ms/step - accuracy: 0.6020 - loss: 1.0168\n",
      "\u001b[1m144/144\u001b[0m \u001b[32m━━━━━━━━━━━━━━━━━━━━\u001b[0m\u001b[37m\u001b[0m \u001b[1m1s\u001b[0m 6ms/step - accuracy: 0.6133 - loss: 1.0130\n",
      "Epoch 3/20\n",
      "Epoch 3/20\n",
      "\u001b[1m144/144\u001b[0m \u001b[32m━━━━━━━━━━━━━━━━━━━━\u001b[0m\u001b[37m\u001b[0m \u001b[1m1s\u001b[0m 4ms/step - accuracy: 0.6837 - loss: 0.9763\n",
      "Epoch 4/20\n",
      "\u001b[1m144/144\u001b[0m \u001b[32m━━━━━━━━━━━━━━━━━━━━\u001b[0m\u001b[37m\u001b[0m \u001b[1m1s\u001b[0m 4ms/step - accuracy: 0.6513 - loss: 0.9760\n",
      "Epoch 4/20\n",
      "\u001b[1m144/144\u001b[0m \u001b[32m━━━━━━━━━━━━━━━━━━━━\u001b[0m\u001b[37m\u001b[0m \u001b[1m1s\u001b[0m 4ms/step - accuracy: 0.6743 - loss: 0.9742\n",
      "Epoch 4/20\n",
      "\u001b[1m144/144\u001b[0m \u001b[32m━━━━━━━━━━━━━━━━━━━━\u001b[0m\u001b[37m\u001b[0m \u001b[1m1s\u001b[0m 4ms/step - accuracy: 0.7194 - loss: 0.9408\n",
      "Epoch 5/20\n",
      "\u001b[1m144/144\u001b[0m \u001b[32m━━━━━━━━━━━━━━━━━━━━\u001b[0m\u001b[37m\u001b[0m \u001b[1m1s\u001b[0m 5ms/step - accuracy: 0.6923 - loss: 0.9394\n",
      "Epoch 5/20\n",
      "\u001b[1m144/144\u001b[0m \u001b[32m━━━━━━━━━━━━━━━━━━━━\u001b[0m\u001b[37m\u001b[0m \u001b[1m1s\u001b[0m 5ms/step - accuracy: 0.7047 - loss: 0.9336\n",
      "Epoch 5/20\n",
      "\u001b[1m144/144\u001b[0m \u001b[32m━━━━━━━━━━━━━━━━━━━━\u001b[0m\u001b[37m\u001b[0m \u001b[1m2s\u001b[0m 4ms/step - accuracy: 0.6849 - loss: 0.9619\n",
      "Epoch 4/20\n",
      "\u001b[1m140/144\u001b[0m \u001b[32m━━━━━━━━━━━━━━━━━━━\u001b[0m\u001b[37m━\u001b[0m \u001b[1m0s\u001b[0m 5ms/step - accuracy: 0.7340 - loss: 0.9141 "
     ]
    },
    {
     "ename": "KeyboardInterrupt",
     "evalue": "",
     "output_type": "error",
     "traceback": [
      "\u001b[0;31m---------------------------------------------------------------------------\u001b[0m",
      "\u001b[0;31mKeyboardInterrupt\u001b[0m                         Traceback (most recent call last)",
      "\u001b[0;32m/var/folders/cd/f_ps01dx04n4r8lqhy1tjk5r0000gn/T/ipykernel_1768/459064200.py\u001b[0m in \u001b[0;36m<module>\u001b[0;34m\u001b[0m\n\u001b[1;32m     39\u001b[0m \u001b[0;31m# Perform Grid Search with EarlyStopping and ReduceLROnPlateau callbacks\u001b[0m\u001b[0;34m\u001b[0m\u001b[0;34m\u001b[0m\u001b[0m\n\u001b[1;32m     40\u001b[0m \u001b[0mgrid\u001b[0m \u001b[0;34m=\u001b[0m \u001b[0mGridSearchCV\u001b[0m\u001b[0;34m(\u001b[0m\u001b[0mestimator\u001b[0m\u001b[0;34m=\u001b[0m\u001b[0mmodel\u001b[0m\u001b[0;34m,\u001b[0m \u001b[0mparam_grid\u001b[0m\u001b[0;34m=\u001b[0m\u001b[0mparam_grid\u001b[0m\u001b[0;34m,\u001b[0m \u001b[0mn_jobs\u001b[0m\u001b[0;34m=\u001b[0m\u001b[0;34m-\u001b[0m\u001b[0;36m1\u001b[0m\u001b[0;34m,\u001b[0m \u001b[0mcv\u001b[0m\u001b[0;34m=\u001b[0m\u001b[0;36m3\u001b[0m\u001b[0;34m)\u001b[0m\u001b[0;34m\u001b[0m\u001b[0;34m\u001b[0m\u001b[0m\n\u001b[0;32m---> 41\u001b[0;31m \u001b[0mgrid_result\u001b[0m \u001b[0;34m=\u001b[0m \u001b[0mgrid\u001b[0m\u001b[0;34m.\u001b[0m\u001b[0mfit\u001b[0m\u001b[0;34m(\u001b[0m\u001b[0mX_train_nouns\u001b[0m\u001b[0;34m,\u001b[0m \u001b[0my_train\u001b[0m\u001b[0;34m,\u001b[0m \u001b[0mcallbacks\u001b[0m\u001b[0;34m=\u001b[0m\u001b[0;34m[\u001b[0m\u001b[0mearly_stopping\u001b[0m\u001b[0;34m,\u001b[0m \u001b[0mreduce_lr\u001b[0m\u001b[0;34m]\u001b[0m\u001b[0;34m)\u001b[0m\u001b[0;34m\u001b[0m\u001b[0;34m\u001b[0m\u001b[0m\n\u001b[0m",
      "\u001b[0;32m~/opt/anaconda3/lib/python3.9/site-packages/sklearn/base.py\u001b[0m in \u001b[0;36mwrapper\u001b[0;34m(estimator, *args, **kwargs)\u001b[0m\n\u001b[1;32m   1472\u001b[0m                 )\n\u001b[1;32m   1473\u001b[0m             ):\n\u001b[0;32m-> 1474\u001b[0;31m                 \u001b[0;32mreturn\u001b[0m \u001b[0mfit_method\u001b[0m\u001b[0;34m(\u001b[0m\u001b[0mestimator\u001b[0m\u001b[0;34m,\u001b[0m \u001b[0;34m*\u001b[0m\u001b[0margs\u001b[0m\u001b[0;34m,\u001b[0m \u001b[0;34m**\u001b[0m\u001b[0mkwargs\u001b[0m\u001b[0;34m)\u001b[0m\u001b[0;34m\u001b[0m\u001b[0;34m\u001b[0m\u001b[0m\n\u001b[0m\u001b[1;32m   1475\u001b[0m \u001b[0;34m\u001b[0m\u001b[0m\n\u001b[1;32m   1476\u001b[0m         \u001b[0;32mreturn\u001b[0m \u001b[0mwrapper\u001b[0m\u001b[0;34m\u001b[0m\u001b[0;34m\u001b[0m\u001b[0m\n",
      "\u001b[0;32m~/opt/anaconda3/lib/python3.9/site-packages/sklearn/model_selection/_search.py\u001b[0m in \u001b[0;36mfit\u001b[0;34m(self, X, y, **params)\u001b[0m\n\u001b[1;32m    968\u001b[0m                 \u001b[0;32mreturn\u001b[0m \u001b[0mresults\u001b[0m\u001b[0;34m\u001b[0m\u001b[0;34m\u001b[0m\u001b[0m\n\u001b[1;32m    969\u001b[0m \u001b[0;34m\u001b[0m\u001b[0m\n\u001b[0;32m--> 970\u001b[0;31m             \u001b[0mself\u001b[0m\u001b[0;34m.\u001b[0m\u001b[0m_run_search\u001b[0m\u001b[0;34m(\u001b[0m\u001b[0mevaluate_candidates\u001b[0m\u001b[0;34m)\u001b[0m\u001b[0;34m\u001b[0m\u001b[0;34m\u001b[0m\u001b[0m\n\u001b[0m\u001b[1;32m    971\u001b[0m \u001b[0;34m\u001b[0m\u001b[0m\n\u001b[1;32m    972\u001b[0m             \u001b[0;31m# multimetric is determined here because in the case of a callable\u001b[0m\u001b[0;34m\u001b[0m\u001b[0;34m\u001b[0m\u001b[0m\n",
      "\u001b[0;32m~/opt/anaconda3/lib/python3.9/site-packages/sklearn/model_selection/_search.py\u001b[0m in \u001b[0;36m_run_search\u001b[0;34m(self, evaluate_candidates)\u001b[0m\n\u001b[1;32m   1525\u001b[0m     \u001b[0;32mdef\u001b[0m \u001b[0m_run_search\u001b[0m\u001b[0;34m(\u001b[0m\u001b[0mself\u001b[0m\u001b[0;34m,\u001b[0m \u001b[0mevaluate_candidates\u001b[0m\u001b[0;34m)\u001b[0m\u001b[0;34m:\u001b[0m\u001b[0;34m\u001b[0m\u001b[0;34m\u001b[0m\u001b[0m\n\u001b[1;32m   1526\u001b[0m         \u001b[0;34m\"\"\"Search all candidates in param_grid\"\"\"\u001b[0m\u001b[0;34m\u001b[0m\u001b[0;34m\u001b[0m\u001b[0m\n\u001b[0;32m-> 1527\u001b[0;31m         \u001b[0mevaluate_candidates\u001b[0m\u001b[0;34m(\u001b[0m\u001b[0mParameterGrid\u001b[0m\u001b[0;34m(\u001b[0m\u001b[0mself\u001b[0m\u001b[0;34m.\u001b[0m\u001b[0mparam_grid\u001b[0m\u001b[0;34m)\u001b[0m\u001b[0;34m)\u001b[0m\u001b[0;34m\u001b[0m\u001b[0;34m\u001b[0m\u001b[0m\n\u001b[0m\u001b[1;32m   1528\u001b[0m \u001b[0;34m\u001b[0m\u001b[0m\n\u001b[1;32m   1529\u001b[0m \u001b[0;34m\u001b[0m\u001b[0m\n",
      "\u001b[0;32m~/opt/anaconda3/lib/python3.9/site-packages/sklearn/model_selection/_search.py\u001b[0m in \u001b[0;36mevaluate_candidates\u001b[0;34m(candidate_params, cv, more_results)\u001b[0m\n\u001b[1;32m    914\u001b[0m                     )\n\u001b[1;32m    915\u001b[0m \u001b[0;34m\u001b[0m\u001b[0m\n\u001b[0;32m--> 916\u001b[0;31m                 out = parallel(\n\u001b[0m\u001b[1;32m    917\u001b[0m                     delayed(_fit_and_score)(\n\u001b[1;32m    918\u001b[0m                         \u001b[0mclone\u001b[0m\u001b[0;34m(\u001b[0m\u001b[0mbase_estimator\u001b[0m\u001b[0;34m)\u001b[0m\u001b[0;34m,\u001b[0m\u001b[0;34m\u001b[0m\u001b[0;34m\u001b[0m\u001b[0m\n",
      "\u001b[0;32m~/opt/anaconda3/lib/python3.9/site-packages/sklearn/utils/parallel.py\u001b[0m in \u001b[0;36m__call__\u001b[0;34m(self, iterable)\u001b[0m\n\u001b[1;32m     65\u001b[0m             \u001b[0;32mfor\u001b[0m \u001b[0mdelayed_func\u001b[0m\u001b[0;34m,\u001b[0m \u001b[0margs\u001b[0m\u001b[0;34m,\u001b[0m \u001b[0mkwargs\u001b[0m \u001b[0;32min\u001b[0m \u001b[0miterable\u001b[0m\u001b[0;34m\u001b[0m\u001b[0;34m\u001b[0m\u001b[0m\n\u001b[1;32m     66\u001b[0m         )\n\u001b[0;32m---> 67\u001b[0;31m         \u001b[0;32mreturn\u001b[0m \u001b[0msuper\u001b[0m\u001b[0;34m(\u001b[0m\u001b[0;34m)\u001b[0m\u001b[0;34m.\u001b[0m\u001b[0m__call__\u001b[0m\u001b[0;34m(\u001b[0m\u001b[0miterable_with_config\u001b[0m\u001b[0;34m)\u001b[0m\u001b[0;34m\u001b[0m\u001b[0;34m\u001b[0m\u001b[0m\n\u001b[0m\u001b[1;32m     68\u001b[0m \u001b[0;34m\u001b[0m\u001b[0m\n\u001b[1;32m     69\u001b[0m \u001b[0;34m\u001b[0m\u001b[0m\n",
      "\u001b[0;32m~/opt/anaconda3/lib/python3.9/site-packages/joblib/parallel.py\u001b[0m in \u001b[0;36m__call__\u001b[0;34m(self, iterable)\u001b[0m\n\u001b[1;32m   2005\u001b[0m         \u001b[0mnext\u001b[0m\u001b[0;34m(\u001b[0m\u001b[0moutput\u001b[0m\u001b[0;34m)\u001b[0m\u001b[0;34m\u001b[0m\u001b[0;34m\u001b[0m\u001b[0m\n\u001b[1;32m   2006\u001b[0m \u001b[0;34m\u001b[0m\u001b[0m\n\u001b[0;32m-> 2007\u001b[0;31m         \u001b[0;32mreturn\u001b[0m \u001b[0moutput\u001b[0m \u001b[0;32mif\u001b[0m \u001b[0mself\u001b[0m\u001b[0;34m.\u001b[0m\u001b[0mreturn_generator\u001b[0m \u001b[0;32melse\u001b[0m \u001b[0mlist\u001b[0m\u001b[0;34m(\u001b[0m\u001b[0moutput\u001b[0m\u001b[0;34m)\u001b[0m\u001b[0;34m\u001b[0m\u001b[0;34m\u001b[0m\u001b[0m\n\u001b[0m\u001b[1;32m   2008\u001b[0m \u001b[0;34m\u001b[0m\u001b[0m\n\u001b[1;32m   2009\u001b[0m     \u001b[0;32mdef\u001b[0m \u001b[0m__repr__\u001b[0m\u001b[0;34m(\u001b[0m\u001b[0mself\u001b[0m\u001b[0;34m)\u001b[0m\u001b[0;34m:\u001b[0m\u001b[0;34m\u001b[0m\u001b[0;34m\u001b[0m\u001b[0m\n",
      "\u001b[0;32m~/opt/anaconda3/lib/python3.9/site-packages/joblib/parallel.py\u001b[0m in \u001b[0;36m_get_outputs\u001b[0;34m(self, iterator, pre_dispatch)\u001b[0m\n\u001b[1;32m   1648\u001b[0m \u001b[0;34m\u001b[0m\u001b[0m\n\u001b[1;32m   1649\u001b[0m             \u001b[0;32mwith\u001b[0m \u001b[0mself\u001b[0m\u001b[0;34m.\u001b[0m\u001b[0m_backend\u001b[0m\u001b[0;34m.\u001b[0m\u001b[0mretrieval_context\u001b[0m\u001b[0;34m(\u001b[0m\u001b[0;34m)\u001b[0m\u001b[0;34m:\u001b[0m\u001b[0;34m\u001b[0m\u001b[0;34m\u001b[0m\u001b[0m\n\u001b[0;32m-> 1650\u001b[0;31m                 \u001b[0;32myield\u001b[0m \u001b[0;32mfrom\u001b[0m \u001b[0mself\u001b[0m\u001b[0;34m.\u001b[0m\u001b[0m_retrieve\u001b[0m\u001b[0;34m(\u001b[0m\u001b[0;34m)\u001b[0m\u001b[0;34m\u001b[0m\u001b[0;34m\u001b[0m\u001b[0m\n\u001b[0m\u001b[1;32m   1651\u001b[0m \u001b[0;34m\u001b[0m\u001b[0m\n\u001b[1;32m   1652\u001b[0m         \u001b[0;32mexcept\u001b[0m \u001b[0mGeneratorExit\u001b[0m\u001b[0;34m:\u001b[0m\u001b[0;34m\u001b[0m\u001b[0;34m\u001b[0m\u001b[0m\n",
      "\u001b[0;32m~/opt/anaconda3/lib/python3.9/site-packages/joblib/parallel.py\u001b[0m in \u001b[0;36m_retrieve\u001b[0;34m(self)\u001b[0m\n\u001b[1;32m   1760\u001b[0m                 (self._jobs[0].get_status(\n\u001b[1;32m   1761\u001b[0m                     timeout=self.timeout) == TASK_PENDING)):\n\u001b[0;32m-> 1762\u001b[0;31m                 \u001b[0mtime\u001b[0m\u001b[0;34m.\u001b[0m\u001b[0msleep\u001b[0m\u001b[0;34m(\u001b[0m\u001b[0;36m0.01\u001b[0m\u001b[0;34m)\u001b[0m\u001b[0;34m\u001b[0m\u001b[0;34m\u001b[0m\u001b[0m\n\u001b[0m\u001b[1;32m   1763\u001b[0m                 \u001b[0;32mcontinue\u001b[0m\u001b[0;34m\u001b[0m\u001b[0;34m\u001b[0m\u001b[0m\n\u001b[1;32m   1764\u001b[0m \u001b[0;34m\u001b[0m\u001b[0m\n",
      "\u001b[0;31mKeyboardInterrupt\u001b[0m: "
     ]
    }
   ],
   "source": [
    "from scikeras.wrappers import KerasClassifier\n",
    "from sklearn.model_selection import GridSearchCV\n",
    "\n",
    "# Function to create the KerasClassifier model for grid search\n",
    "def build_keras_classifier(input_dim, layers, nodes, learning_rate, dropout_rate=0.5, l2_reg=0.01):\n",
    "    return KerasClassifier(model=create_fnn_model, input_dim=input_dim, layers=layers, \n",
    "                           nodes=nodes, learning_rate=learning_rate, dropout_rate=dropout_rate, \n",
    "                           l2_reg=l2_reg, verbose=1)\n",
    "\n",
    "# Define hyperparameters for grid search\n",
    "param_grid = {\n",
    "    'layers': [1, 2, 3],\n",
    "    'nodes': [32, 64, 128],\n",
    "    'epochs': [20, 30],\n",
    "    'batch_size': [32, 64]\n",
    "}\n",
    "\n",
    "# Build the model\n",
    "input_dim = X_train_nouns.shape[1]\n",
    "model = build_keras_classifier(input_dim=input_dim, layers=1, nodes=32, learning_rate=0.001)\n",
    "\n",
    "# EarlyStopping and ReduceLROnPlateau\n",
    "early_stopping = EarlyStopping(\n",
    "    monitor='val_loss', \n",
    "    min_delta=0.001, \n",
    "    patience=10,  # Stop if no improvement after 10 epochs\n",
    "    verbose=1, \n",
    "    restore_best_weights=True\n",
    ")\n",
    "\n",
    "reduce_lr = ReduceLROnPlateau(\n",
    "    monitor='val_loss', \n",
    "    factor=0.2, \n",
    "    patience=5,  # Reduce LR if no improvement after 5 epochs\n",
    "    verbose=1, \n",
    "    min_lr=0.0001\n",
    ")\n",
    "\n",
    "# Perform Grid Search with EarlyStopping and ReduceLROnPlateau callbacks\n",
    "grid = GridSearchCV(estimator=model, param_grid=param_grid, n_jobs=-1, cv=3)\n",
    "grid_result = grid.fit(X_train_nouns, y_train, callbacks=[early_stopping, reduce_lr])"
   ]
  },
  {
   "cell_type": "markdown",
   "metadata": {},
   "source": [
    "#### Save the model"
   ]
  },
  {
   "cell_type": "code",
   "execution_count": 34,
   "metadata": {},
   "outputs": [
    {
     "name": "stderr",
     "output_type": "stream",
     "text": [
      "/Users/robin/opt/anaconda3/lib/python3.9/site-packages/keras/src/saving/saving_lib.py:418: UserWarning: Skipping variable loading for optimizer 'rmsprop', because it has 8 variables whereas the saved optimizer has 14 variables. \n",
      "  trackable.load_own_variables(weights_store.get(inner_path))\n"
     ]
    },
    {
     "name": "stdout",
     "output_type": "stream",
     "text": [
      "\u001b[1m31/31\u001b[0m \u001b[32m━━━━━━━━━━━━━━━━━━━━\u001b[0m\u001b[37m\u001b[0m \u001b[1m0s\u001b[0m 3ms/step - accuracy: 0.6405 - loss: 3.2125\n"
     ]
    },
    {
     "data": {
      "text/plain": [
       "[3.146270513534546, 0.6388028860092163]"
      ]
     },
     "execution_count": 34,
     "metadata": {},
     "output_type": "execute_result"
    }
   ],
   "source": [
    "from tensorflow.keras.models import load_model\n",
    "from sklearn.preprocessing import LabelEncoder\n",
    "\n",
    "best_model = grid_result.best_estimator_\n",
    "\n",
    "# Access the underlying Keras model\n",
    "keras_model = best_model.model_\n",
    "\n",
    "# Save the model in the recommended format\n",
    "keras_model.save('FNN_nouns.keras')\n",
    "\n",
    "# Load the model from the saved file\n",
    "best_model = load_model('FNN_nouns.keras')\n",
    "\n",
    "# Convert Sentiment labels to numerical values\n",
    "label_encoder = LabelEncoder()\n",
    "y_test_encoded = label_encoder.fit_transform(y_test)\n",
    "\n",
    "# Evaluate the loaded model with the encoded labels\n",
    "best_model.evaluate(X_test_nouns, y_test_encoded)\n"
   ]
  },
  {
   "cell_type": "markdown",
   "metadata": {},
   "source": [
    "#### Print the mean cross validation accuracy per combination "
   ]
  },
  {
   "cell_type": "code",
   "execution_count": 26,
   "metadata": {},
   "outputs": [
    {
     "name": "stdout",
     "output_type": "stream",
     "text": [
      "Best: 0.892123 using {'batch_size': 64, 'epochs': 20, 'layers': 2, 'learning_rate': 0.01, 'nodes': 128}\n",
      "0.849986 (0.004983) with: {'batch_size': 32, 'epochs': 20, 'layers': 1, 'learning_rate': 0.001, 'nodes': 32}\n",
      "0.855633 (0.002078) with: {'batch_size': 32, 'epochs': 20, 'layers': 1, 'learning_rate': 0.001, 'nodes': 64}\n",
      "0.864031 (0.005807) with: {'batch_size': 32, 'epochs': 20, 'layers': 1, 'learning_rate': 0.001, 'nodes': 128}\n",
      "0.876339 (0.001433) with: {'batch_size': 32, 'epochs': 20, 'layers': 1, 'learning_rate': 0.01, 'nodes': 32}\n",
      "0.881118 (0.007854) with: {'batch_size': 32, 'epochs': 20, 'layers': 1, 'learning_rate': 0.01, 'nodes': 64}\n",
      "0.880973 (0.003251) with: {'batch_size': 32, 'epochs': 20, 'layers': 1, 'learning_rate': 0.01, 'nodes': 128}\n",
      "0.846800 (0.003199) with: {'batch_size': 32, 'epochs': 20, 'layers': 1, 'learning_rate': 0.1, 'nodes': 32}\n",
      "0.856791 (0.008545) with: {'batch_size': 32, 'epochs': 20, 'layers': 1, 'learning_rate': 0.1, 'nodes': 64}\n",
      "0.859687 (0.008666) with: {'batch_size': 32, 'epochs': 20, 'layers': 1, 'learning_rate': 0.1, 'nodes': 128}\n",
      "0.871706 (0.005070) with: {'batch_size': 32, 'epochs': 20, 'layers': 2, 'learning_rate': 0.001, 'nodes': 32}\n",
      "0.871995 (0.002867) with: {'batch_size': 32, 'epochs': 20, 'layers': 2, 'learning_rate': 0.001, 'nodes': 64}\n",
      "0.872575 (0.003058) with: {'batch_size': 32, 'epochs': 20, 'layers': 2, 'learning_rate': 0.001, 'nodes': 128}\n",
      "0.880249 (0.002362) with: {'batch_size': 32, 'epochs': 20, 'layers': 2, 'learning_rate': 0.01, 'nodes': 32}\n",
      "0.880394 (0.005229) with: {'batch_size': 32, 'epochs': 20, 'layers': 2, 'learning_rate': 0.01, 'nodes': 64}\n",
      "0.881407 (0.009887) with: {'batch_size': 32, 'epochs': 20, 'layers': 2, 'learning_rate': 0.01, 'nodes': 128}\n",
      "0.583261 (0.121417) with: {'batch_size': 32, 'epochs': 20, 'layers': 2, 'learning_rate': 0.1, 'nodes': 32}\n",
      "0.596293 (0.086824) with: {'batch_size': 32, 'epochs': 20, 'layers': 2, 'learning_rate': 0.1, 'nodes': 64}\n",
      "0.463510 (0.090449) with: {'batch_size': 32, 'epochs': 20, 'layers': 2, 'learning_rate': 0.1, 'nodes': 128}\n",
      "0.872285 (0.004315) with: {'batch_size': 32, 'epochs': 20, 'layers': 3, 'learning_rate': 0.001, 'nodes': 32}\n",
      "0.876484 (0.004080) with: {'batch_size': 32, 'epochs': 20, 'layers': 3, 'learning_rate': 0.001, 'nodes': 64}\n",
      "0.880539 (0.001279) with: {'batch_size': 32, 'epochs': 20, 'layers': 3, 'learning_rate': 0.001, 'nodes': 128}\n",
      "0.870547 (0.000938) with: {'batch_size': 32, 'epochs': 20, 'layers': 3, 'learning_rate': 0.01, 'nodes': 32}\n",
      "0.878946 (0.010488) with: {'batch_size': 32, 'epochs': 20, 'layers': 3, 'learning_rate': 0.01, 'nodes': 64}\n",
      "0.867072 (0.006739) with: {'batch_size': 32, 'epochs': 20, 'layers': 3, 'learning_rate': 0.01, 'nodes': 128}\n",
      "0.333478 (0.000205) with: {'batch_size': 32, 'epochs': 20, 'layers': 3, 'learning_rate': 0.1, 'nodes': 32}\n",
      "0.333333 (0.000205) with: {'batch_size': 32, 'epochs': 20, 'layers': 3, 'learning_rate': 0.1, 'nodes': 64}\n",
      "0.333478 (0.000205) with: {'batch_size': 32, 'epochs': 20, 'layers': 3, 'learning_rate': 0.1, 'nodes': 128}\n",
      "0.856791 (0.002566) with: {'batch_size': 32, 'epochs': 30, 'layers': 1, 'learning_rate': 0.001, 'nodes': 32}\n",
      "0.863162 (0.009091) with: {'batch_size': 32, 'epochs': 30, 'layers': 1, 'learning_rate': 0.001, 'nodes': 64}\n",
      "0.870982 (0.005460) with: {'batch_size': 32, 'epochs': 30, 'layers': 1, 'learning_rate': 0.001, 'nodes': 128}\n",
      "0.883435 (0.005767) with: {'batch_size': 32, 'epochs': 30, 'layers': 1, 'learning_rate': 0.01, 'nodes': 32}\n",
      "0.879380 (0.000819) with: {'batch_size': 32, 'epochs': 30, 'layers': 1, 'learning_rate': 0.01, 'nodes': 64}\n",
      "0.881407 (0.002326) with: {'batch_size': 32, 'epochs': 30, 'layers': 1, 'learning_rate': 0.01, 'nodes': 128}\n",
      "0.850130 (0.008994) with: {'batch_size': 32, 'epochs': 30, 'layers': 1, 'learning_rate': 0.1, 'nodes': 32}\n",
      "0.837967 (0.013824) with: {'batch_size': 32, 'epochs': 30, 'layers': 1, 'learning_rate': 0.1, 'nodes': 64}\n",
      "0.850999 (0.007730) with: {'batch_size': 32, 'epochs': 30, 'layers': 1, 'learning_rate': 0.1, 'nodes': 128}\n",
      "0.865190 (0.000819) with: {'batch_size': 32, 'epochs': 30, 'layers': 2, 'learning_rate': 0.001, 'nodes': 32}\n",
      "0.871416 (0.001877) with: {'batch_size': 32, 'epochs': 30, 'layers': 2, 'learning_rate': 0.001, 'nodes': 64}\n",
      "0.877498 (0.004966) with: {'batch_size': 32, 'epochs': 30, 'layers': 2, 'learning_rate': 0.001, 'nodes': 128}\n",
      "0.879525 (0.004334) with: {'batch_size': 32, 'epochs': 30, 'layers': 2, 'learning_rate': 0.01, 'nodes': 32}\n",
      "0.887489 (0.004692) with: {'batch_size': 32, 'epochs': 30, 'layers': 2, 'learning_rate': 0.01, 'nodes': 64}\n",
      "0.875615 (0.005949) with: {'batch_size': 32, 'epochs': 30, 'layers': 2, 'learning_rate': 0.01, 'nodes': 128}\n",
      "0.464234 (0.000819) with: {'batch_size': 32, 'epochs': 30, 'layers': 2, 'learning_rate': 0.1, 'nodes': 32}\n",
      "0.469012 (0.034084) with: {'batch_size': 32, 'epochs': 30, 'layers': 2, 'learning_rate': 0.1, 'nodes': 64}\n",
      "0.394005 (0.072587) with: {'batch_size': 32, 'epochs': 30, 'layers': 2, 'learning_rate': 0.1, 'nodes': 128}\n",
      "0.876195 (0.005708) with: {'batch_size': 32, 'epochs': 30, 'layers': 3, 'learning_rate': 0.001, 'nodes': 32}\n",
      "0.878801 (0.000614) with: {'batch_size': 32, 'epochs': 30, 'layers': 3, 'learning_rate': 0.001, 'nodes': 64}\n",
      "0.880104 (0.001877) with: {'batch_size': 32, 'epochs': 30, 'layers': 3, 'learning_rate': 0.001, 'nodes': 128}\n",
      "0.867796 (0.003352) with: {'batch_size': 32, 'epochs': 30, 'layers': 3, 'learning_rate': 0.01, 'nodes': 32}\n",
      "0.878511 (0.003891) with: {'batch_size': 32, 'epochs': 30, 'layers': 3, 'learning_rate': 0.01, 'nodes': 64}\n",
      "0.872430 (0.005229) with: {'batch_size': 32, 'epochs': 30, 'layers': 3, 'learning_rate': 0.01, 'nodes': 128}\n",
      "0.334926 (0.001419) with: {'batch_size': 32, 'epochs': 30, 'layers': 3, 'learning_rate': 0.1, 'nodes': 32}\n",
      "0.333478 (0.000205) with: {'batch_size': 32, 'epochs': 30, 'layers': 3, 'learning_rate': 0.1, 'nodes': 64}\n",
      "0.333333 (0.000205) with: {'batch_size': 32, 'epochs': 30, 'layers': 3, 'learning_rate': 0.1, 'nodes': 128}\n",
      "0.835361 (0.003153) with: {'batch_size': 64, 'epochs': 20, 'layers': 1, 'learning_rate': 0.001, 'nodes': 32}\n",
      "0.844917 (0.003421) with: {'batch_size': 64, 'epochs': 20, 'layers': 1, 'learning_rate': 0.001, 'nodes': 64}\n",
      "0.859687 (0.006184) with: {'batch_size': 64, 'epochs': 20, 'layers': 1, 'learning_rate': 0.001, 'nodes': 128}\n",
      "0.877932 (0.001773) with: {'batch_size': 64, 'epochs': 20, 'layers': 1, 'learning_rate': 0.01, 'nodes': 32}\n",
      "0.877063 (0.002770) with: {'batch_size': 64, 'epochs': 20, 'layers': 1, 'learning_rate': 0.01, 'nodes': 64}\n",
      "0.881263 (0.003179) with: {'batch_size': 64, 'epochs': 20, 'layers': 1, 'learning_rate': 0.01, 'nodes': 128}\n",
      "0.865479 (0.005745) with: {'batch_size': 64, 'epochs': 20, 'layers': 1, 'learning_rate': 0.1, 'nodes': 32}\n",
      "0.869968 (0.002017) with: {'batch_size': 64, 'epochs': 20, 'layers': 1, 'learning_rate': 0.1, 'nodes': 64}\n",
      "0.863452 (0.011396) with: {'batch_size': 64, 'epochs': 20, 'layers': 1, 'learning_rate': 0.1, 'nodes': 128}\n",
      "0.864466 (0.003030) with: {'batch_size': 64, 'epochs': 20, 'layers': 2, 'learning_rate': 0.001, 'nodes': 32}\n",
      "0.867651 (0.002867) with: {'batch_size': 64, 'epochs': 20, 'layers': 2, 'learning_rate': 0.001, 'nodes': 64}\n",
      "0.875036 (0.003099) with: {'batch_size': 64, 'epochs': 20, 'layers': 2, 'learning_rate': 0.001, 'nodes': 128}\n",
      "0.873009 (0.002308) with: {'batch_size': 64, 'epochs': 20, 'layers': 2, 'learning_rate': 0.01, 'nodes': 32}\n",
      "0.884014 (0.002838) with: {'batch_size': 64, 'epochs': 20, 'layers': 2, 'learning_rate': 0.01, 'nodes': 64}\n",
      "0.892123 (0.007132) with: {'batch_size': 64, 'epochs': 20, 'layers': 2, 'learning_rate': 0.01, 'nodes': 128}\n",
      "0.780481 (0.010702) with: {'batch_size': 64, 'epochs': 20, 'layers': 2, 'learning_rate': 0.1, 'nodes': 32}\n",
      "0.763973 (0.019036) with: {'batch_size': 64, 'epochs': 20, 'layers': 2, 'learning_rate': 0.1, 'nodes': 64}\n",
      "0.723139 (0.026317) with: {'batch_size': 64, 'epochs': 20, 'layers': 2, 'learning_rate': 0.1, 'nodes': 128}\n",
      "0.865334 (0.005320) with: {'batch_size': 64, 'epochs': 20, 'layers': 3, 'learning_rate': 0.001, 'nodes': 32}\n",
      "0.870837 (0.006198) with: {'batch_size': 64, 'epochs': 20, 'layers': 3, 'learning_rate': 0.001, 'nodes': 64}\n",
      "0.880539 (0.000709) with: {'batch_size': 64, 'epochs': 20, 'layers': 3, 'learning_rate': 0.001, 'nodes': 128}\n",
      "0.868520 (0.007375) with: {'batch_size': 64, 'epochs': 20, 'layers': 3, 'learning_rate': 0.01, 'nodes': 32}\n",
      "0.881263 (0.005193) with: {'batch_size': 64, 'epochs': 20, 'layers': 3, 'learning_rate': 0.01, 'nodes': 64}\n",
      "0.883145 (0.002215) with: {'batch_size': 64, 'epochs': 20, 'layers': 3, 'learning_rate': 0.01, 'nodes': 128}\n",
      "0.356936 (0.029655) with: {'batch_size': 64, 'epochs': 20, 'layers': 3, 'learning_rate': 0.1, 'nodes': 32}\n",
      "0.334492 (0.001546) with: {'batch_size': 64, 'epochs': 20, 'layers': 3, 'learning_rate': 0.1, 'nodes': 64}\n",
      "0.333623 (0.000355) with: {'batch_size': 64, 'epochs': 20, 'layers': 3, 'learning_rate': 0.1, 'nodes': 128}\n",
      "0.848827 (0.002770) with: {'batch_size': 64, 'epochs': 30, 'layers': 1, 'learning_rate': 0.001, 'nodes': 32}\n",
      "0.859253 (0.002815) with: {'batch_size': 64, 'epochs': 30, 'layers': 1, 'learning_rate': 0.001, 'nodes': 64}\n",
      "0.866783 (0.006935) with: {'batch_size': 64, 'epochs': 30, 'layers': 1, 'learning_rate': 0.001, 'nodes': 128}\n",
      "0.874891 (0.003837) with: {'batch_size': 64, 'epochs': 30, 'layers': 1, 'learning_rate': 0.01, 'nodes': 32}\n",
      "0.880394 (0.004080) with: {'batch_size': 64, 'epochs': 30, 'layers': 1, 'learning_rate': 0.01, 'nodes': 64}\n",
      "0.879959 (0.002017) with: {'batch_size': 64, 'epochs': 30, 'layers': 1, 'learning_rate': 0.01, 'nodes': 128}\n",
      "0.870258 (0.004629) with: {'batch_size': 64, 'epochs': 30, 'layers': 1, 'learning_rate': 0.1, 'nodes': 32}\n",
      "0.876339 (0.012582) with: {'batch_size': 64, 'epochs': 30, 'layers': 1, 'learning_rate': 0.1, 'nodes': 64}\n",
      "0.873443 (0.003640) with: {'batch_size': 64, 'epochs': 30, 'layers': 1, 'learning_rate': 0.1, 'nodes': 128}\n",
      "0.869389 (0.002889) with: {'batch_size': 64, 'epochs': 30, 'layers': 2, 'learning_rate': 0.001, 'nodes': 32}\n",
      "0.873588 (0.002457) with: {'batch_size': 64, 'epochs': 30, 'layers': 2, 'learning_rate': 0.001, 'nodes': 64}\n",
      "0.877353 (0.001433) with: {'batch_size': 64, 'epochs': 30, 'layers': 2, 'learning_rate': 0.001, 'nodes': 128}\n",
      "0.880104 (0.006841) with: {'batch_size': 64, 'epochs': 30, 'layers': 2, 'learning_rate': 0.01, 'nodes': 32}\n",
      "0.879959 (0.002845) with: {'batch_size': 64, 'epochs': 30, 'layers': 2, 'learning_rate': 0.01, 'nodes': 64}\n",
      "0.882131 (0.007822) with: {'batch_size': 64, 'epochs': 30, 'layers': 2, 'learning_rate': 0.01, 'nodes': 128}\n",
      "0.785694 (0.006064) with: {'batch_size': 64, 'epochs': 30, 'layers': 2, 'learning_rate': 0.1, 'nodes': 32}\n",
      "0.747321 (0.023608) with: {'batch_size': 64, 'epochs': 30, 'layers': 2, 'learning_rate': 0.1, 'nodes': 64}\n",
      "0.748190 (0.018503) with: {'batch_size': 64, 'epochs': 30, 'layers': 2, 'learning_rate': 0.1, 'nodes': 128}\n",
      "0.876484 (0.002566) with: {'batch_size': 64, 'epochs': 30, 'layers': 3, 'learning_rate': 0.001, 'nodes': 32}\n",
      "0.876195 (0.003837) with: {'batch_size': 64, 'epochs': 30, 'layers': 3, 'learning_rate': 0.001, 'nodes': 64}\n",
      "0.882711 (0.003384) with: {'batch_size': 64, 'epochs': 30, 'layers': 3, 'learning_rate': 0.001, 'nodes': 128}\n",
      "0.878222 (0.003445) with: {'batch_size': 64, 'epochs': 30, 'layers': 3, 'learning_rate': 0.01, 'nodes': 32}\n",
      "0.879815 (0.010905) with: {'batch_size': 64, 'epochs': 30, 'layers': 3, 'learning_rate': 0.01, 'nodes': 64}\n",
      "0.874891 (0.008057) with: {'batch_size': 64, 'epochs': 30, 'layers': 3, 'learning_rate': 0.01, 'nodes': 128}\n",
      "0.354040 (0.022522) with: {'batch_size': 64, 'epochs': 30, 'layers': 3, 'learning_rate': 0.1, 'nodes': 32}\n",
      "0.333478 (0.000205) with: {'batch_size': 64, 'epochs': 30, 'layers': 3, 'learning_rate': 0.1, 'nodes': 64}\n",
      "0.333623 (0.000355) with: {'batch_size': 64, 'epochs': 30, 'layers': 3, 'learning_rate': 0.1, 'nodes': 128}\n"
     ]
    }
   ],
   "source": [
    "# Summarize the results from the grid search\n",
    "print(\"Best: %f using %s\" % (grid_result.best_score_, grid_result.best_params_))\n",
    "\n",
    "# Extract the mean and standard deviation of test scores, and the corresponding parameters\n",
    "means = grid_result.cv_results_['mean_test_score']\n",
    "stds = grid_result.cv_results_['std_test_score']\n",
    "params = grid_result.cv_results_['params']\n",
    "\n",
    "# Print the results in a readable format\n",
    "for mean, stdev, param in zip(means, stds, params):\n",
    "    print(\"%f (%f) with: %r\" % (mean, stdev, param))\n"
   ]
  },
  {
   "cell_type": "markdown",
   "metadata": {},
   "source": [
    "#### Retrain the best model to store the history"
   ]
  },
  {
   "cell_type": "code",
   "execution_count": 19,
   "metadata": {},
   "outputs": [
    {
     "name": "stderr",
     "output_type": "stream",
     "text": [
      "/Users/robin/opt/anaconda3/lib/python3.9/site-packages/keras/src/layers/core/dense.py:87: UserWarning: Do not pass an `input_shape`/`input_dim` argument to a layer. When using Sequential models, prefer using an `Input(shape)` object as the first layer in the model instead.\n",
      "  super().__init__(activity_regularizer=activity_regularizer, **kwargs)\n"
     ]
    },
    {
     "data": {
      "text/html": [
       "<pre style=\"white-space:pre;overflow-x:auto;line-height:normal;font-family:Menlo,'DejaVu Sans Mono',consolas,'Courier New',monospace\"><span style=\"font-weight: bold\">Model: \"sequential_3\"</span>\n",
       "</pre>\n"
      ],
      "text/plain": [
       "\u001b[1mModel: \"sequential_3\"\u001b[0m\n"
      ]
     },
     "metadata": {},
     "output_type": "display_data"
    },
    {
     "data": {
      "text/html": [
       "<pre style=\"white-space:pre;overflow-x:auto;line-height:normal;font-family:Menlo,'DejaVu Sans Mono',consolas,'Courier New',monospace\">┏━━━━━━━━━━━━━━━━━━━━━━━━━━━━━━━━━┳━━━━━━━━━━━━━━━━━━━━━━━━┳━━━━━━━━━━━━━━━┓\n",
       "┃<span style=\"font-weight: bold\"> Layer (type)                    </span>┃<span style=\"font-weight: bold\"> Output Shape           </span>┃<span style=\"font-weight: bold\">       Param # </span>┃\n",
       "┡━━━━━━━━━━━━━━━━━━━━━━━━━━━━━━━━━╇━━━━━━━━━━━━━━━━━━━━━━━━╇━━━━━━━━━━━━━━━┩\n",
       "│ dense_9 (<span style=\"color: #0087ff; text-decoration-color: #0087ff\">Dense</span>)                 │ (<span style=\"color: #00d7ff; text-decoration-color: #00d7ff\">None</span>, <span style=\"color: #00af00; text-decoration-color: #00af00\">128</span>)            │       <span style=\"color: #00af00; text-decoration-color: #00af00\">337,152</span> │\n",
       "├─────────────────────────────────┼────────────────────────┼───────────────┤\n",
       "│ dense_10 (<span style=\"color: #0087ff; text-decoration-color: #0087ff\">Dense</span>)                │ (<span style=\"color: #00d7ff; text-decoration-color: #00d7ff\">None</span>, <span style=\"color: #00af00; text-decoration-color: #00af00\">128</span>)            │        <span style=\"color: #00af00; text-decoration-color: #00af00\">16,512</span> │\n",
       "├─────────────────────────────────┼────────────────────────┼───────────────┤\n",
       "│ dropout_3 (<span style=\"color: #0087ff; text-decoration-color: #0087ff\">Dropout</span>)             │ (<span style=\"color: #00d7ff; text-decoration-color: #00d7ff\">None</span>, <span style=\"color: #00af00; text-decoration-color: #00af00\">128</span>)            │             <span style=\"color: #00af00; text-decoration-color: #00af00\">0</span> │\n",
       "├─────────────────────────────────┼────────────────────────┼───────────────┤\n",
       "│ dense_11 (<span style=\"color: #0087ff; text-decoration-color: #0087ff\">Dense</span>)                │ (<span style=\"color: #00d7ff; text-decoration-color: #00d7ff\">None</span>, <span style=\"color: #00af00; text-decoration-color: #00af00\">3</span>)              │           <span style=\"color: #00af00; text-decoration-color: #00af00\">387</span> │\n",
       "└─────────────────────────────────┴────────────────────────┴───────────────┘\n",
       "</pre>\n"
      ],
      "text/plain": [
       "┏━━━━━━━━━━━━━━━━━━━━━━━━━━━━━━━━━┳━━━━━━━━━━━━━━━━━━━━━━━━┳━━━━━━━━━━━━━━━┓\n",
       "┃\u001b[1m \u001b[0m\u001b[1mLayer (type)                   \u001b[0m\u001b[1m \u001b[0m┃\u001b[1m \u001b[0m\u001b[1mOutput Shape          \u001b[0m\u001b[1m \u001b[0m┃\u001b[1m \u001b[0m\u001b[1m      Param #\u001b[0m\u001b[1m \u001b[0m┃\n",
       "┡━━━━━━━━━━━━━━━━━━━━━━━━━━━━━━━━━╇━━━━━━━━━━━━━━━━━━━━━━━━╇━━━━━━━━━━━━━━━┩\n",
       "│ dense_9 (\u001b[38;5;33mDense\u001b[0m)                 │ (\u001b[38;5;45mNone\u001b[0m, \u001b[38;5;34m128\u001b[0m)            │       \u001b[38;5;34m337,152\u001b[0m │\n",
       "├─────────────────────────────────┼────────────────────────┼───────────────┤\n",
       "│ dense_10 (\u001b[38;5;33mDense\u001b[0m)                │ (\u001b[38;5;45mNone\u001b[0m, \u001b[38;5;34m128\u001b[0m)            │        \u001b[38;5;34m16,512\u001b[0m │\n",
       "├─────────────────────────────────┼────────────────────────┼───────────────┤\n",
       "│ dropout_3 (\u001b[38;5;33mDropout\u001b[0m)             │ (\u001b[38;5;45mNone\u001b[0m, \u001b[38;5;34m128\u001b[0m)            │             \u001b[38;5;34m0\u001b[0m │\n",
       "├─────────────────────────────────┼────────────────────────┼───────────────┤\n",
       "│ dense_11 (\u001b[38;5;33mDense\u001b[0m)                │ (\u001b[38;5;45mNone\u001b[0m, \u001b[38;5;34m3\u001b[0m)              │           \u001b[38;5;34m387\u001b[0m │\n",
       "└─────────────────────────────────┴────────────────────────┴───────────────┘\n"
      ]
     },
     "metadata": {},
     "output_type": "display_data"
    },
    {
     "data": {
      "text/html": [
       "<pre style=\"white-space:pre;overflow-x:auto;line-height:normal;font-family:Menlo,'DejaVu Sans Mono',consolas,'Courier New',monospace\"><span style=\"font-weight: bold\"> Total params: </span><span style=\"color: #00af00; text-decoration-color: #00af00\">354,051</span> (1.35 MB)\n",
       "</pre>\n"
      ],
      "text/plain": [
       "\u001b[1m Total params: \u001b[0m\u001b[38;5;34m354,051\u001b[0m (1.35 MB)\n"
      ]
     },
     "metadata": {},
     "output_type": "display_data"
    },
    {
     "data": {
      "text/html": [
       "<pre style=\"white-space:pre;overflow-x:auto;line-height:normal;font-family:Menlo,'DejaVu Sans Mono',consolas,'Courier New',monospace\"><span style=\"font-weight: bold\"> Trainable params: </span><span style=\"color: #00af00; text-decoration-color: #00af00\">354,051</span> (1.35 MB)\n",
       "</pre>\n"
      ],
      "text/plain": [
       "\u001b[1m Trainable params: \u001b[0m\u001b[38;5;34m354,051\u001b[0m (1.35 MB)\n"
      ]
     },
     "metadata": {},
     "output_type": "display_data"
    },
    {
     "data": {
      "text/html": [
       "<pre style=\"white-space:pre;overflow-x:auto;line-height:normal;font-family:Menlo,'DejaVu Sans Mono',consolas,'Courier New',monospace\"><span style=\"font-weight: bold\"> Non-trainable params: </span><span style=\"color: #00af00; text-decoration-color: #00af00\">0</span> (0.00 B)\n",
       "</pre>\n"
      ],
      "text/plain": [
       "\u001b[1m Non-trainable params: \u001b[0m\u001b[38;5;34m0\u001b[0m (0.00 B)\n"
      ]
     },
     "metadata": {},
     "output_type": "display_data"
    },
    {
     "name": "stdout",
     "output_type": "stream",
     "text": [
      "None\n",
      "Epoch 1/20\n",
      "\u001b[1m87/87\u001b[0m \u001b[32m━━━━━━━━━━━━━━━━━━━━\u001b[0m\u001b[37m\u001b[0m \u001b[1m0s\u001b[0m 5ms/step - accuracy: 0.5574 - loss: 0.8827\n",
      "Epoch 1: val_loss improved from inf to 0.44474, saving model to best_model.keras\n",
      "\u001b[1m87/87\u001b[0m \u001b[32m━━━━━━━━━━━━━━━━━━━━\u001b[0m\u001b[37m\u001b[0m \u001b[1m2s\u001b[0m 10ms/step - accuracy: 0.5588 - loss: 0.8806 - val_accuracy: 0.8321 - val_loss: 0.4447 - learning_rate: 0.0100\n",
      "Epoch 2/20\n",
      "\u001b[1m82/87\u001b[0m \u001b[32m━━━━━━━━━━━━━━━━━━\u001b[0m\u001b[37m━━\u001b[0m \u001b[1m0s\u001b[0m 6ms/step - accuracy: 0.8961 - loss: 0.2805\n",
      "Epoch 2: val_loss improved from 0.44474 to 0.32823, saving model to best_model.keras\n",
      "\u001b[1m87/87\u001b[0m \u001b[32m━━━━━━━━━━━━━━━━━━━━\u001b[0m\u001b[37m\u001b[0m \u001b[1m1s\u001b[0m 9ms/step - accuracy: 0.8966 - loss: 0.2795 - val_accuracy: 0.8835 - val_loss: 0.3282 - learning_rate: 0.0100\n",
      "Epoch 3/20\n",
      "\u001b[1m71/87\u001b[0m \u001b[32m━━━━━━━━━━━━━━━━\u001b[0m\u001b[37m━━━━\u001b[0m \u001b[1m0s\u001b[0m 4ms/step - accuracy: 0.9386 - loss: 0.1552\n",
      "Epoch 3: val_loss did not improve from 0.32823\n",
      "\u001b[1m87/87\u001b[0m \u001b[32m━━━━━━━━━━━━━━━━━━━━\u001b[0m\u001b[37m\u001b[0m \u001b[1m1s\u001b[0m 5ms/step - accuracy: 0.9389 - loss: 0.1552 - val_accuracy: 0.8842 - val_loss: 0.3526 - learning_rate: 0.0100\n",
      "Epoch 4/20\n",
      "\u001b[1m84/87\u001b[0m \u001b[32m━━━━━━━━━━━━━━━━━━━\u001b[0m\u001b[37m━\u001b[0m \u001b[1m0s\u001b[0m 4ms/step - accuracy: 0.9565 - loss: 0.1172\n",
      "Epoch 4: val_loss did not improve from 0.32823\n",
      "\u001b[1m87/87\u001b[0m \u001b[32m━━━━━━━━━━━━━━━━━━━━\u001b[0m\u001b[37m\u001b[0m \u001b[1m0s\u001b[0m 5ms/step - accuracy: 0.9566 - loss: 0.1168 - val_accuracy: 0.9146 - val_loss: 0.3532 - learning_rate: 0.0100\n",
      "Epoch 5/20\n",
      "\u001b[1m74/87\u001b[0m \u001b[32m━━━━━━━━━━━━━━━━━\u001b[0m\u001b[37m━━━\u001b[0m \u001b[1m0s\u001b[0m 5ms/step - accuracy: 0.9599 - loss: 0.0991\n",
      "Epoch 5: val_loss did not improve from 0.32823\n",
      "\u001b[1m87/87\u001b[0m \u001b[32m━━━━━━━━━━━━━━━━━━━━\u001b[0m\u001b[37m\u001b[0m \u001b[1m1s\u001b[0m 6ms/step - accuracy: 0.9596 - loss: 0.0991 - val_accuracy: 0.9153 - val_loss: 0.3545 - learning_rate: 0.0100\n",
      "Epoch 6/20\n",
      "\u001b[1m75/87\u001b[0m \u001b[32m━━━━━━━━━━━━━━━━━\u001b[0m\u001b[37m━━━\u001b[0m \u001b[1m0s\u001b[0m 5ms/step - accuracy: 0.9600 - loss: 0.0854\n",
      "Epoch 6: val_loss did not improve from 0.32823\n",
      "\u001b[1m87/87\u001b[0m \u001b[32m━━━━━━━━━━━━━━━━━━━━\u001b[0m\u001b[37m\u001b[0m \u001b[1m1s\u001b[0m 6ms/step - accuracy: 0.9606 - loss: 0.0849 - val_accuracy: 0.9045 - val_loss: 0.3963 - learning_rate: 0.0100\n",
      "Epoch 7/20\n",
      "\u001b[1m76/87\u001b[0m \u001b[32m━━━━━━━━━━━━━━━━━\u001b[0m\u001b[37m━━━\u001b[0m \u001b[1m0s\u001b[0m 4ms/step - accuracy: 0.9676 - loss: 0.0679\n",
      "Epoch 7: val_loss did not improve from 0.32823\n",
      "\u001b[1m87/87\u001b[0m \u001b[32m━━━━━━━━━━━━━━━━━━━━\u001b[0m\u001b[37m\u001b[0m \u001b[1m1s\u001b[0m 5ms/step - accuracy: 0.9672 - loss: 0.0687 - val_accuracy: 0.9117 - val_loss: 0.4065 - learning_rate: 0.0100\n",
      "Epoch 8/20\n",
      "\u001b[1m84/87\u001b[0m \u001b[32m━━━━━━━━━━━━━━━━━━━\u001b[0m\u001b[37m━\u001b[0m \u001b[1m0s\u001b[0m 4ms/step - accuracy: 0.9675 - loss: 0.0715\n",
      "Epoch 8: val_loss did not improve from 0.32823\n",
      "\u001b[1m87/87\u001b[0m \u001b[32m━━━━━━━━━━━━━━━━━━━━\u001b[0m\u001b[37m\u001b[0m \u001b[1m1s\u001b[0m 7ms/step - accuracy: 0.9675 - loss: 0.0717 - val_accuracy: 0.9182 - val_loss: 0.3730 - learning_rate: 0.0100\n",
      "Epoch 9/20\n",
      "\u001b[1m81/87\u001b[0m \u001b[32m━━━━━━━━━━━━━━━━━━\u001b[0m\u001b[37m━━\u001b[0m \u001b[1m0s\u001b[0m 11ms/step - accuracy: 0.9728 - loss: 0.0637\n",
      "Epoch 9: val_loss did not improve from 0.32823\n",
      "\u001b[1m87/87\u001b[0m \u001b[32m━━━━━━━━━━━━━━━━━━━━\u001b[0m\u001b[37m\u001b[0m \u001b[1m1s\u001b[0m 13ms/step - accuracy: 0.9726 - loss: 0.0640 - val_accuracy: 0.9226 - val_loss: 0.4183 - learning_rate: 0.0100\n",
      "Epoch 10/20\n",
      "\u001b[1m74/87\u001b[0m \u001b[32m━━━━━━━━━━━━━━━━━\u001b[0m\u001b[37m━━━\u001b[0m \u001b[1m0s\u001b[0m 4ms/step - accuracy: 0.9736 - loss: 0.0570\n",
      "Epoch 10: val_loss did not improve from 0.32823\n",
      "\u001b[1m87/87\u001b[0m \u001b[32m━━━━━━━━━━━━━━━━━━━━\u001b[0m\u001b[37m\u001b[0m \u001b[1m0s\u001b[0m 4ms/step - accuracy: 0.9730 - loss: 0.0587 - val_accuracy: 0.9153 - val_loss: 0.4072 - learning_rate: 0.0100\n",
      "Epoch 11/20\n",
      "\u001b[1m76/87\u001b[0m \u001b[32m━━━━━━━━━━━━━━━━━\u001b[0m\u001b[37m━━━\u001b[0m \u001b[1m0s\u001b[0m 6ms/step - accuracy: 0.9744 - loss: 0.0676\n",
      "Epoch 11: val_loss did not improve from 0.32823\n",
      "\u001b[1m87/87\u001b[0m \u001b[32m━━━━━━━━━━━━━━━━━━━━\u001b[0m\u001b[37m\u001b[0m \u001b[1m1s\u001b[0m 7ms/step - accuracy: 0.9741 - loss: 0.0676 - val_accuracy: 0.9110 - val_loss: 0.4382 - learning_rate: 0.0100\n",
      "Epoch 12/20\n",
      "\u001b[1m84/87\u001b[0m \u001b[32m━━━━━━━━━━━━━━━━━━━\u001b[0m\u001b[37m━\u001b[0m \u001b[1m0s\u001b[0m 6ms/step - accuracy: 0.9735 - loss: 0.0546\n",
      "Epoch 12: ReduceLROnPlateau reducing learning rate to 0.0019999999552965165.\n",
      "\n",
      "Epoch 12: val_loss did not improve from 0.32823\n",
      "\u001b[1m87/87\u001b[0m \u001b[32m━━━━━━━━━━━━━━━━━━━━\u001b[0m\u001b[37m\u001b[0m \u001b[1m1s\u001b[0m 7ms/step - accuracy: 0.9735 - loss: 0.0547 - val_accuracy: 0.9226 - val_loss: 0.4375 - learning_rate: 0.0100\n",
      "Epoch 13/20\n",
      "\u001b[1m75/87\u001b[0m \u001b[32m━━━━━━━━━━━━━━━━━\u001b[0m\u001b[37m━━━\u001b[0m \u001b[1m0s\u001b[0m 4ms/step - accuracy: 0.9679 - loss: 0.0591\n",
      "Epoch 13: val_loss did not improve from 0.32823\n",
      "\u001b[1m87/87\u001b[0m \u001b[32m━━━━━━━━━━━━━━━━━━━━\u001b[0m\u001b[37m\u001b[0m \u001b[1m0s\u001b[0m 4ms/step - accuracy: 0.9687 - loss: 0.0582 - val_accuracy: 0.9255 - val_loss: 0.4529 - learning_rate: 0.0020\n",
      "Epoch 14/20\n",
      "\u001b[1m84/87\u001b[0m \u001b[32m━━━━━━━━━━━━━━━━━━━\u001b[0m\u001b[37m━\u001b[0m \u001b[1m0s\u001b[0m 7ms/step - accuracy: 0.9754 - loss: 0.0491\n",
      "Epoch 14: val_loss did not improve from 0.32823\n",
      "\u001b[1m87/87\u001b[0m \u001b[32m━━━━━━━━━━━━━━━━━━━━\u001b[0m\u001b[37m\u001b[0m \u001b[1m1s\u001b[0m 8ms/step - accuracy: 0.9755 - loss: 0.0490 - val_accuracy: 0.9233 - val_loss: 0.4648 - learning_rate: 0.0020\n",
      "Epoch 15/20\n",
      "\u001b[1m87/87\u001b[0m \u001b[32m━━━━━━━━━━━━━━━━━━━━\u001b[0m\u001b[37m\u001b[0m \u001b[1m0s\u001b[0m 4ms/step - accuracy: 0.9714 - loss: 0.0513\n",
      "Epoch 15: val_loss did not improve from 0.32823\n",
      "\u001b[1m87/87\u001b[0m \u001b[32m━━━━━━━━━━━━━━━━━━━━\u001b[0m\u001b[37m\u001b[0m \u001b[1m1s\u001b[0m 6ms/step - accuracy: 0.9715 - loss: 0.0512 - val_accuracy: 0.9240 - val_loss: 0.4736 - learning_rate: 0.0020\n",
      "Epoch 16/20\n",
      "\u001b[1m86/87\u001b[0m \u001b[32m━━━━━━━━━━━━━━━━━━━\u001b[0m\u001b[37m━\u001b[0m \u001b[1m0s\u001b[0m 4ms/step - accuracy: 0.9744 - loss: 0.0485\n",
      "Epoch 16: val_loss did not improve from 0.32823\n",
      "\u001b[1m87/87\u001b[0m \u001b[32m━━━━━━━━━━━━━━━━━━━━\u001b[0m\u001b[37m\u001b[0m \u001b[1m0s\u001b[0m 5ms/step - accuracy: 0.9744 - loss: 0.0484 - val_accuracy: 0.9247 - val_loss: 0.4847 - learning_rate: 0.0020\n",
      "Epoch 17/20\n",
      "\u001b[1m87/87\u001b[0m \u001b[32m━━━━━━━━━━━━━━━━━━━━\u001b[0m\u001b[37m\u001b[0m \u001b[1m0s\u001b[0m 12ms/step - accuracy: 0.9789 - loss: 0.0422\n",
      "Epoch 17: val_loss did not improve from 0.32823\n",
      "\u001b[1m87/87\u001b[0m \u001b[32m━━━━━━━━━━━━━━━━━━━━\u001b[0m\u001b[37m\u001b[0m \u001b[1m1s\u001b[0m 16ms/step - accuracy: 0.9788 - loss: 0.0422 - val_accuracy: 0.9219 - val_loss: 0.4896 - learning_rate: 0.0020\n",
      "Epoch 18/20\n",
      "\u001b[1m78/87\u001b[0m \u001b[32m━━━━━━━━━━━━━━━━━\u001b[0m\u001b[37m━━━\u001b[0m \u001b[1m0s\u001b[0m 5ms/step - accuracy: 0.9769 - loss: 0.0464\n",
      "Epoch 18: val_loss did not improve from 0.32823\n",
      "\u001b[1m87/87\u001b[0m \u001b[32m━━━━━━━━━━━━━━━━━━━━\u001b[0m\u001b[37m\u001b[0m \u001b[1m1s\u001b[0m 7ms/step - accuracy: 0.9768 - loss: 0.0464 - val_accuracy: 0.9219 - val_loss: 0.4996 - learning_rate: 0.0020\n",
      "Epoch 19/20\n",
      "\u001b[1m77/87\u001b[0m \u001b[32m━━━━━━━━━━━━━━━━━\u001b[0m\u001b[37m━━━\u001b[0m \u001b[1m0s\u001b[0m 6ms/step - accuracy: 0.9760 - loss: 0.0451\n",
      "Epoch 19: val_loss did not improve from 0.32823\n",
      "\u001b[1m87/87\u001b[0m \u001b[32m━━━━━━━━━━━━━━━━━━━━\u001b[0m\u001b[37m\u001b[0m \u001b[1m1s\u001b[0m 7ms/step - accuracy: 0.9759 - loss: 0.0454 - val_accuracy: 0.9197 - val_loss: 0.4980 - learning_rate: 0.0020\n",
      "Epoch 20/20\n",
      "\u001b[1m86/87\u001b[0m \u001b[32m━━━━━━━━━━━━━━━━━━━\u001b[0m\u001b[37m━\u001b[0m \u001b[1m0s\u001b[0m 7ms/step - accuracy: 0.9764 - loss: 0.0513\n",
      "Epoch 20: val_loss did not improve from 0.32823\n",
      "\u001b[1m87/87\u001b[0m \u001b[32m━━━━━━━━━━━━━━━━━━━━\u001b[0m\u001b[37m\u001b[0m \u001b[1m1s\u001b[0m 10ms/step - accuracy: 0.9765 - loss: 0.0512 - val_accuracy: 0.9211 - val_loss: 0.5051 - learning_rate: 0.0020\n",
      "Restoring model weights from the end of the best epoch: 2.\n"
     ]
    }
   ],
   "source": [
    "from keras.callbacks import EarlyStopping, ReduceLROnPlateau, ModelCheckpoint\n",
    "from sklearn.preprocessing import LabelEncoder\n",
    "\n",
    "# Retrieve the best hyperparameters from GridSearchCV\n",
    "best_params = grid_result.best_params_\n",
    "\n",
    "# Create the final model using the best parameters\n",
    "best_model = create_fnn_model(\n",
    "    input_dim=X_train_nouns.shape[1],\n",
    "    layers=best_params['layers'],\n",
    "    nodes=best_params['nodes'],\n",
    "    learning_rate=best_params['learning_rate']\n",
    ")\n",
    "\n",
    "# Model Summary\n",
    "print(best_model.summary())\n",
    "\n",
    "# EarlyStopping to stop training when validation loss has not improved\n",
    "early_stopping = EarlyStopping(\n",
    "    monitor='val_loss', \n",
    "    min_delta=0.001, \n",
    "    patience=10, \n",
    "    verbose=1, \n",
    "    restore_best_weights=True\n",
    ")\n",
    "\n",
    "# ReduceLROnPlateau to reduce the learning rate when validation loss has stopped improving\n",
    "reduce_lr = ReduceLROnPlateau(\n",
    "    monitor='val_loss', \n",
    "    factor=0.2, \n",
    "    patience=10, \n",
    "    verbose=1, \n",
    "    min_lr=0.0005\n",
    ")\n",
    "\n",
    "# ModelCheckpoint to save the model after every epoch\n",
    "checkpoint = ModelCheckpoint(\n",
    "    'best_model.keras', \n",
    "    monitor='val_loss',\n",
    "    save_best_only=True,\n",
    "    verbose=1\n",
    ")\n",
    "\n",
    "# Fit the model using the encoded labels\n",
    "history = best_model.fit(\n",
    "    X_train_nouns, y_train_encoded,  # <-- Use encoded labels here\n",
    "    epochs=best_params['epochs'],  # Use the best number of epochs from the grid search\n",
    "    batch_size=best_params['batch_size'],  # Use the best batch size from the grid search\n",
    "    validation_split=0.2,  # Using 20% of the training data as validation data\n",
    "    callbacks=[early_stopping, reduce_lr, checkpoint],\n",
    "    verbose=1\n",
    ")\n"
   ]
  },
  {
   "cell_type": "markdown",
   "metadata": {},
   "source": [
    "#### Plot the history of the loss function and accuracy"
   ]
  },
  {
   "cell_type": "code",
   "execution_count": 20,
   "metadata": {},
   "outputs": [
    {
     "data": {
      "image/png": "[encoded data removed]",
      "text/plain": [
       "<Figure size 1400x600 with 2 Axes>"
      ]
     },
     "metadata": {},
     "output_type": "display_data"
    }
   ],
   "source": [
    "import matplotlib.pyplot as plt\n",
    "\n",
    "def plot_training_history(history):\n",
    "    \"\"\"\n",
    "    Plots the training and validation loss and accuracy.\n",
    "\n",
    "    Args:\n",
    "        history: Keras History object returned by model.fit().\n",
    "    \"\"\"\n",
    "    # Plot training & validation accuracy values\n",
    "    plt.figure(figsize=(14, 6))\n",
    "    \n",
    "    plt.subplot(1, 2, 1)\n",
    "    plt.plot(history.history['accuracy'])\n",
    "    plt.plot(history.history['val_accuracy'])\n",
    "    plt.title('Model Accuracy')\n",
    "    plt.ylabel('Accuracy')\n",
    "    plt.xlabel('Epoch')\n",
    "    plt.legend(['Train', 'Validation'], loc='upper left')\n",
    "\n",
    "    # Plot training & validation loss values\n",
    "    plt.subplot(1, 2, 2)\n",
    "    plt.plot(history.history['loss'])\n",
    "    plt.plot(history.history['val_loss'])\n",
    "    plt.title('Model Loss')\n",
    "    plt.ylabel('Loss')\n",
    "    plt.xlabel('Epoch')\n",
    "    plt.legend(['Train', 'Validation'], loc='upper left')\n",
    "\n",
    "    plt.show()\n",
    "\n",
    "# Plot the training and validation loss/accuracy using the history object\n",
    "plot_training_history(history)\n"
   ]
  },
  {
   "cell_type": "markdown",
   "metadata": {},
   "source": [
    "### Predict on the test with the best model"
   ]
  },
  {
   "cell_type": "code",
   "execution_count": 21,
   "metadata": {},
   "outputs": [
    {
     "name": "stdout",
     "output_type": "stream",
     "text": [
      "\u001b[1m16/16\u001b[0m \u001b[32m━━━━━━━━━━━━━━━━━━━━\u001b[0m\u001b[37m\u001b[0m \u001b[1m0s\u001b[0m 8ms/step\n"
     ]
    }
   ],
   "source": [
    "# Retrieve the best model from GridSearchCV\n",
    "best_model = grid_result.best_estimator_\n",
    "\n",
    "# Make predictions on the test set\n",
    "y_test_pred = best_model.predict(X_test_nouns)\n"
   ]
  },
  {
   "cell_type": "markdown",
   "metadata": {},
   "source": [
    "#### Compute metrics of the predictions"
   ]
  },
  {
   "cell_type": "code",
   "execution_count": 22,
   "metadata": {},
   "outputs": [
    {
     "name": "stdout",
     "output_type": "stream",
     "text": [
      "\u001b[1m16/16\u001b[0m \u001b[32m━━━━━━━━━━━━━━━━━━━━\u001b[0m\u001b[37m\u001b[0m \u001b[1m0s\u001b[0m 7ms/step\n",
      "Test set accuracy: 0.6388\n",
      "              precision    recall  f1-score   support\n",
      "\n",
      "    negative       0.42      0.52      0.46       121\n",
      "     neutral       0.75      0.76      0.76       576\n",
      "    positive       0.50      0.44      0.47       272\n",
      "\n",
      "    accuracy                           0.64       969\n",
      "   macro avg       0.56      0.57      0.56       969\n",
      "weighted avg       0.64      0.64      0.64       969\n",
      "\n",
      "[[ 63  35  23]\n",
      " [ 43 437  96]\n",
      " [ 44 109 119]]\n"
     ]
    }
   ],
   "source": [
    "from sklearn.metrics import classification_report, confusion_matrix\n",
    "\n",
    "# Evaluate the model on the test set\n",
    "test_accuracy = best_model.score(X_test_nouns, y_test)\n",
    "print(\"Test set accuracy: {:.4f}\".format(test_accuracy))\n",
    "\n",
    "# Generate a classification report\n",
    "print(classification_report(y_test, y_test_pred))\n",
    "\n",
    "# Generate a confusion matrix\n",
    "conf_matrix = confusion_matrix(y_test, y_test_pred)\n",
    "print(conf_matrix)\n"
   ]
  },
  {
   "cell_type": "markdown",
   "metadata": {},
   "source": [
    "# CHECK TO SEE IF THE MODEL IS BETTER WITH OVERFITING MEASURES BEFORE DOING THE SAME FOR RAW COMM"
   ]
  },
  {
   "cell_type": "markdown",
   "metadata": {},
   "source": [
    "## FNN with raw comms"
   ]
  },
  {
   "cell_type": "markdown",
   "metadata": {},
   "source": []
  }
 ],
 "metadata": {
  "kernelspec": {
   "display_name": "base",
   "language": "python",
   "name": "python3"
  },
  "language_info": {
   "codemirror_mode": {
    "name": "ipython",
    "version": 3
   },
   "file_extension": ".py",
   "mimetype": "text/x-python",
   "name": "python",
   "nbconvert_exporter": "python",
   "pygments_lexer": "ipython3",
   "version": "3.9.13"
  }
 },
 "nbformat": 4,
 "nbformat_minor": 2
}
